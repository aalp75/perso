{
 "cells": [
  {
   "cell_type": "markdown",
   "metadata": {},
   "source": [
    "# Generator of Continue Random Variable with Mersenne Twister"
   ]
  },
  {
   "cell_type": "code",
   "execution_count": 64,
   "metadata": {},
   "outputs": [],
   "source": [
    "import numpy as np\n",
    "from RNG_Uniform import *"
   ]
  },
  {
   "cell_type": "code",
   "execution_count": 65,
   "metadata": {},
   "outputs": [],
   "source": [
    "MT=MT19937()\n",
    "MT.seed(3213)"
   ]
  },
  {
   "cell_type": "code",
   "execution_count": 239,
   "metadata": {},
   "outputs": [],
   "source": [
    "def Expectation(Xn):\n",
    "    return sum(Xn)/len(Xn)\n",
    "\n",
    "def Variance(Xn):\n",
    "    expect=Expectation(Xn)\n",
    "    var=0\n",
    "    for i in range(len(Xn)):\n",
    "        var += pow((Xn[i]-expect),2)\n",
    "    return(var/(len(Xn)-1))"
   ]
  },
  {
   "cell_type": "markdown",
   "metadata": {},
   "source": [
    "# Uniform Law on $[a,b]$"
   ]
  },
  {
   "cell_type": "code",
   "execution_count": 240,
   "metadata": {},
   "outputs": [],
   "source": [
    "def Uniform_Continue(a,b,size=1):\n",
    "    if size==1:\n",
    "        U = MT.uniform()\n",
    "        return a + U*(b-a)\n",
    "    res =[]\n",
    "    for i in range(size):\n",
    "        U = MT.uniform()\n",
    "        res.append(a+U*(b-a))\n",
    "    return res"
   ]
  },
  {
   "cell_type": "code",
   "execution_count": 241,
   "metadata": {},
   "outputs": [
    {
     "name": "stdout",
     "output_type": "stream",
     "text": [
      "Expectation : 0.9285435333420522\n",
      "Variance : 11.935057823349615\n"
     ]
    },
    {
     "data": {
      "text/plain": [
       "(array([0.08534147, 0.08734167, 0.08617489, 0.07750739, 0.08592486,\n",
       "        0.08567484, 0.08309126, 0.08284124, 0.0817578 , 0.07775742]),\n",
       " array([-4.99931884, -3.79943332, -2.59954779, -1.39966227, -0.19977675,\n",
       "         1.00010877,  2.19999429,  3.39987981,  4.59976533,  5.79965085,\n",
       "         6.99953637]),\n",
       " <a list of 10 Patch objects>)"
      ]
     },
     "execution_count": 241,
     "metadata": {},
     "output_type": "execute_result"
    },
    {
     "data": {
      "image/png": "[encoded data removed]",
      "text/plain": [
       "<Figure size 432x288 with 1 Axes>"
      ]
     },
     "metadata": {
      "needs_background": "light"
     },
     "output_type": "display_data"
    }
   ],
   "source": [
    "Sn = Uniform_Continue(-5,7,10000)\n",
    "print(\"Expectation :\",Expectation(Sn))\n",
    "print(\"Variance :\",Variance(Sn))\n",
    "plt.hist(Sn,density=True)"
   ]
  },
  {
   "cell_type": "markdown",
   "metadata": {},
   "source": [
    "# Exponential Law"
   ]
  },
  {
   "cell_type": "markdown",
   "metadata": {},
   "source": [
    "Simulation with the inverse of the cumulative distribution function"
   ]
  },
  {
   "cell_type": "code",
   "execution_count": 70,
   "metadata": {},
   "outputs": [],
   "source": [
    "def Exponential(lambdaa,size=1):\n",
    "    if size==1:\n",
    "        U = MT.uniform()\n",
    "        return -1.0/lambdaa*np.log(U)\n",
    "    res = []\n",
    "    for i in range(size):\n",
    "        U = MT.uniform()\n",
    "        res.append(-1.0/lambdaa*np.log(U))\n",
    "    return res"
   ]
  },
  {
   "cell_type": "code",
   "execution_count": 71,
   "metadata": {},
   "outputs": [
    {
     "name": "stdout",
     "output_type": "stream",
     "text": [
      "Expectation : 0.2512024272174719\n",
      "Variance : 0.06291179317333273\n"
     ]
    },
    {
     "data": {
      "text/plain": [
       "(array([2.40479857e+00, 7.82120740e-01, 2.51917705e-01, 8.44476607e-02,\n",
       "        2.60113048e-02, 8.55166184e-03, 3.20687319e-03, 7.12638487e-04,\n",
       "        1.06895773e-03, 3.56319244e-04]),\n",
       " array([1.37795375e-06, 2.80648584e-01, 5.61295789e-01, 8.41942995e-01,\n",
       "        1.12259020e+00, 1.40323741e+00, 1.68388461e+00, 1.96453182e+00,\n",
       "        2.24517902e+00, 2.52582623e+00, 2.80647343e+00]),\n",
       " <a list of 10 Patch objects>)"
      ]
     },
     "execution_count": 71,
     "metadata": {},
     "output_type": "execute_result"
    },
    {
     "data": {
      "image/png": "[encoded data removed]",
      "text/plain": [
       "<Figure size 432x288 with 1 Axes>"
      ]
     },
     "metadata": {
      "needs_background": "light"
     },
     "output_type": "display_data"
    }
   ],
   "source": [
    "Sn = Exponential(4,10000)\n",
    "print(\"Expectation :\",Expectation(Sn))\n",
    "print(\"Variance :\",Variance(Sn))\n",
    "plt.hist(Sn,density=True)"
   ]
  },
  {
   "cell_type": "markdown",
   "metadata": {},
   "source": [
    "## Gaussian Law"
   ]
  },
  {
   "cell_type": "markdown",
   "metadata": {},
   "source": [
    "Box Muller method"
   ]
  },
  {
   "cell_type": "code",
   "execution_count": 72,
   "metadata": {},
   "outputs": [],
   "source": [
    "def Gaussian(mu,sigma,size=1):\n",
    "    if size==1:\n",
    "        U1=MT.uniform()\n",
    "        U2=MT.uniform()\n",
    "        return (mu + np.sqrt(sigma)*np.sqrt(-2*np.log(U1))*np.cos(2*np.pi*U2))\n",
    "    res = []\n",
    "    r = size%2\n",
    "    for i in range(int(size/2)):\n",
    "        U1=MT.uniform()\n",
    "        U2=MT.uniform()\n",
    "        res.append(mu + np.sqrt(sigma)*np.sqrt(-2*np.log(U1))*np.cos(2*np.pi*U2))\n",
    "        res.append(mu + np.sqrt(sigma)*np.sqrt(-2*np.log(U1))*np.sin(2*np.pi*U2))\n",
    "    if (r==1):\n",
    "        U1=MT.uniform()\n",
    "        U2=MT.uniform()\n",
    "        res.append(mu + np.sqrt(sigma)*np.sqrt(-2*np.log(U1))*np.cos(2*np.pi*U2))\n",
    "    return res"
   ]
  },
  {
   "cell_type": "code",
   "execution_count": 73,
   "metadata": {},
   "outputs": [
    {
     "name": "stdout",
     "output_type": "stream",
     "text": [
      "Expectation : 4.993054035159221\n",
      "Variance : 10.033037297492777\n"
     ]
    },
    {
     "data": {
      "text/plain": [
       "(array([2.16096687e-05, 1.08048344e-04, 5.25835272e-04, 1.76478961e-03,\n",
       "        6.09392658e-03, 1.59479355e-02, 3.54902793e-02, 6.42095290e-02,\n",
       "        9.74668091e-02, 1.18276920e-01, 1.22425976e-01, 1.05793735e-01,\n",
       "        7.53529148e-02, 4.40693177e-02, 2.10838334e-02, 8.09642255e-03,\n",
       "        2.66519247e-03, 7.41931959e-04, 1.72877350e-04, 2.16096687e-05]),\n",
       " array([-9.11150691, -7.72325332, -6.33499974, -4.94674616, -3.55849258,\n",
       "        -2.170239  , -0.78198541,  0.60626817,  1.99452175,  3.38277533,\n",
       "         4.77102892,  6.1592825 ,  7.54753608,  8.93578966, 10.32404324,\n",
       "        11.71229683, 13.10055041, 14.48880399, 15.87705757, 17.26531116,\n",
       "        18.65356474]),\n",
       " <a list of 20 Patch objects>)"
      ]
     },
     "execution_count": 73,
     "metadata": {},
     "output_type": "execute_result"
    },
    {
     "data": {
      "image/png": "[encoded data removed]",
      "text/plain": [
       "<Figure size 432x288 with 1 Axes>"
      ]
     },
     "metadata": {
      "needs_background": "light"
     },
     "output_type": "display_data"
    }
   ],
   "source": [
    "Sn = Gaussian(5,10,100001)\n",
    "print(\"Expectation :\",Expectation(Sn))\n",
    "print(\"Variance :\",Variance(Sn))\n",
    "plt.hist(Sn,bins=20,density=True)"
   ]
  },
  {
   "cell_type": "code",
   "execution_count": 225,
   "metadata": {},
   "outputs": [],
   "source": [
    "def Gaussian_vector(Mu,Sigma,n):\n",
    "    \"\"\"\n",
    "    return a gaussian vector of size n \n",
    "    here Mu should be a vector (numpy) and Sigma a Matrix n*n\n",
    "    \"\"\"\n",
    "    L = np.linalg.cholesky(Sigma)\n",
    "    gauss = np.asarray(Gaussian(0,1,n))\n",
    "    #print(np.dot(L,gauss)\n",
    "    return Mu + np.dot(np.dot(L,gauss),L.T)"
   ]
  },
  {
   "cell_type": "code",
   "execution_count": 235,
   "metadata": {},
   "outputs": [
    {
     "name": "stdout",
     "output_type": "stream",
     "text": [
      "[[ 1.         -0.36800803 -0.51225494]\n",
      " [-0.36800803  1.         -0.46456405]\n",
      " [-0.51225494 -0.46456405  1.        ]]\n",
      "[0. 0. 0.]\n"
     ]
    }
   ],
   "source": [
    "n = int(Uniform_Continue(2,10))\n",
    "S = np.eye(n)\n",
    "for i in range(n):\n",
    "    for j in range(i+1,n):\n",
    "        U = Uniform_Continue(-1,1,1)\n",
    "        S[i,j] = U\n",
    "        S[j,i] = U\n",
    "print(S)\n",
    "M = np.zeros(n)\n",
    "print(M)"
   ]
  },
  {
   "cell_type": "code",
   "execution_count": 236,
   "metadata": {},
   "outputs": [
    {
     "name": "stdout",
     "output_type": "stream",
     "text": [
      "[ 1.79986213 -0.55129839 -2.02295881]\n"
     ]
    }
   ],
   "source": [
    "gauss = Gaussian_vector(M,S,n)\n",
    "print(gauss)"
   ]
  },
  {
   "cell_type": "markdown",
   "metadata": {},
   "source": [
    "## Gamma law"
   ]
  },
  {
   "cell_type": "markdown",
   "metadata": {},
   "source": [
    "Following the paper of $\\textit{Debasis Kundu1 Rameshwar D. Gupta}$, A Convenient Way of Generating Gamma Random Variables Using Generalized Exponential Distribution.\n",
    "\n",
    "We use the following properties\n",
    "- Scaling property : $ \\it{Gamma}(k,\\theta) \\sim \\theta * \\it{Gamma}(k,1)$\n",
    "- $\\sum_{i=1}^n \\mathcal{E}(1) \\sim \\it{Gamma}(n,1)$\n",
    "- Shape-addition property : $\\it{Gamma}(k,1) \\sim \\it{Gamma}(n,1) + \\it{Gamma}(\\delta,1)$ with $\\delta \\in [0,1]$\n",
    "\n",
    "Note that $\\theta \\left(\\xi - \\sum_{i=1}^{\\lfloor k \\rfloor} ln(U_i)\\right) \\sim \\it{Gamma}(k,\\theta)$ where $\\xi$ is a $\\it{Gamma}(\\theta,k)$\n",
    "\n",
    "$\\xi$ is the most difficult to simulate, we use the Ahrens-Dieter acceptance–rejection method with the majorization function\n",
    "$\n",
    "g_k(x) = \\left\\{\n",
    "    \\begin{array}{ll}\n",
    "        \\frac{x^{k-1}}{\\Gamma(k)}& x \\in (0,1) \\\\\n",
    "        \\frac{e^{-x}}{\\Gamma(k)}& x \\ge 1\n",
    "    \\end{array}\n",
    "\\right.\n",
    "$"
   ]
  },
  {
   "cell_type": "code",
   "execution_count": 110,
   "metadata": {},
   "outputs": [],
   "source": [
    "def Gamma(k,theta,size=1,max_iter=1000):\n",
    "    e = np.exp(1)\n",
    "    n = int(k)\n",
    "    delta = k - n\n",
    "    if (size == 1):\n",
    "        gamma1 = 0 #Correspond to Gamma(delta,1)\n",
    "        if ( delta > 0):\n",
    "            it = 0\n",
    "            while (it <= max_iter):\n",
    "                U1 = MT.uniform()\n",
    "                U2 = MT.uniform()\n",
    "                U3 = MT.uniform()\n",
    "                if (U1 < e / (e+delta)): #that mean we are on x in (0,1)\n",
    "                    g = pow(U2,1/delta) #we generate g from the probability density link to the majorization function g\n",
    "                    if (U3 < np.exp(-g)):#acceptance-rejection\n",
    "                        gamma1 = g\n",
    "                        break\n",
    "                else:#that mean we are on x greater than 1\n",
    "                    g = 1 - np.log(U2)\n",
    "                    if (U3 < pow(g,delta-1)):\n",
    "                        gamma1 = g\n",
    "                        break\n",
    "                it +=1\n",
    "                if (it == max_iter):\n",
    "                    \"Algo didn't converge\"\n",
    "                    return 0\n",
    "        return theta*(gamma1 - sum(np.log(Uniform_Continue(0,1,n))))\n",
    "    res = []\n",
    "    for i in range(size):\n",
    "        ggamma1 = 0\n",
    "        if ( delta > 0):\n",
    "            it = 0\n",
    "            while (it <= max_iter):\n",
    "                U1 = MT.uniform()\n",
    "                U2 = MT.uniform()\n",
    "                U3 = MT.uniform()\n",
    "                if (U1 < e / (e+delta)):\n",
    "                    g = pow(U2,1/delta)\n",
    "                    if (U3 < np.exp(-g)):\n",
    "                        gamma1 = g\n",
    "                        break\n",
    "                else:\n",
    "                    g = 1 - np.log(U2)\n",
    "                    if (U3 < pow(g,delta-1)):\n",
    "                        gamma1 = g\n",
    "                        break\n",
    "                it +=1\n",
    "                if (it == max_iter):\n",
    "                    \"Algo didn't converge\"\n",
    "                    return 0\n",
    "        res.append(theta*(gamma1 - sum(np.log(Uniform_Continue(0,1,n)))))\n",
    "    return res\n",
    "    "
   ]
  },
  {
   "cell_type": "code",
   "execution_count": 111,
   "metadata": {},
   "outputs": [
    {
     "name": "stdout",
     "output_type": "stream",
     "text": [
      "Expectation : 13.349456297408137\n",
      "Variance : 77.58533654661372\n"
     ]
    },
    {
     "data": {
      "text/plain": [
       "(array([1.19813217e-02, 3.26161546e-02, 4.68360759e-02, 5.50803806e-02,\n",
       "        5.60973788e-02, 5.55076402e-02, 5.07054832e-02, 4.60477518e-02,\n",
       "        4.08002820e-02, 3.50954638e-02, 3.05279986e-02, 2.51060142e-02,\n",
       "        2.16759020e-02, 1.82879140e-02, 1.44907196e-02, 1.18308782e-02,\n",
       "        9.79688186e-03, 7.96147095e-03, 6.18623744e-03, 5.42198437e-03,\n",
       "        4.01985079e-03, 3.12922516e-03, 2.59364624e-03, 2.20249310e-03,\n",
       "        1.60071903e-03, 1.35399166e-03, 1.05912236e-03, 8.66554661e-04,\n",
       "        6.80004699e-04, 4.93454738e-04, 3.49028961e-04, 2.94869294e-04,\n",
       "        2.28674147e-04, 1.86549962e-04, 1.38408036e-04, 1.38408036e-04,\n",
       "        5.41596663e-05, 7.82306291e-05, 4.81419256e-05, 6.01774070e-05,\n",
       "        4.81419256e-05, 2.40709628e-05, 6.01774070e-06, 1.80532221e-05,\n",
       "        0.00000000e+00, 6.01774070e-06, 6.01774070e-06, 6.01774070e-06,\n",
       "        2.40709628e-05, 6.01774070e-06]),\n",
       " array([ 0.10036691,  1.76212013,  3.42387335,  5.08562657,  6.7473798 ,\n",
       "         8.40913302, 10.07088624, 11.73263946, 13.39439268, 15.05614591,\n",
       "        16.71789913, 18.37965235, 20.04140557, 21.70315879, 23.36491202,\n",
       "        25.02666524, 26.68841846, 28.35017168, 30.0119249 , 31.67367813,\n",
       "        33.33543135, 34.99718457, 36.65893779, 38.32069101, 39.98244424,\n",
       "        41.64419746, 43.30595068, 44.9677039 , 46.62945712, 48.29121035,\n",
       "        49.95296357, 51.61471679, 53.27647001, 54.93822323, 56.59997646,\n",
       "        58.26172968, 59.9234829 , 61.58523612, 63.24698934, 64.90874257,\n",
       "        66.57049579, 68.23224901, 69.89400223, 71.55575545, 73.21750868,\n",
       "        74.8792619 , 76.54101512, 78.20276834, 79.86452156, 81.52627479,\n",
       "        83.18802801]),\n",
       " <a list of 50 Patch objects>)"
      ]
     },
     "execution_count": 111,
     "metadata": {},
     "output_type": "execute_result"
    },
    {
     "data": {
      "image/png": "[encoded data removed]",
      "text/plain": [
       "<Figure size 432x288 with 1 Axes>"
      ]
     },
     "metadata": {
      "needs_background": "light"
     },
     "output_type": "display_data"
    }
   ],
   "source": [
    "k, theta = 2.3 , 5.8\n",
    "Sn = Gamma(k,theta,100000)\n",
    "print(\"Expectation :\",Expectation(Sn))\n",
    "print(\"Variance :\",Variance(Sn))\n",
    "plt.hist(Sn,bins=50,density=True)"
   ]
  },
  {
   "cell_type": "markdown",
   "metadata": {},
   "source": [
    "## Pareto Law $(x_m,\\alpha)$"
   ]
  },
  {
   "cell_type": "code",
   "execution_count": 85,
   "metadata": {},
   "outputs": [],
   "source": [
    "def Pareto(xm,alpha,size=1):\n",
    "    if size ==1:\n",
    "        U = MT.uniform()\n",
    "        return xm / pow(U,1/alpha)\n",
    "    res = []\n",
    "    for i in range(size):\n",
    "        U = MT.uniform()\n",
    "        res.append(xm / pow(U,1/alpha))\n",
    "    return res"
   ]
  },
  {
   "cell_type": "code",
   "execution_count": 98,
   "metadata": {},
   "outputs": [
    {
     "name": "stdout",
     "output_type": "stream",
     "text": [
      "Expectation : 6.325703149518028\n",
      "Variance : 7911.217039112849\n"
     ]
    },
    {
     "data": {
      "text/plain": [
       "(array([0.        , 0.        , 0.        , 0.        , 0.        ,\n",
       "        1.02004526, 0.73445414, 0.51244746, 0.37180731, 0.322233  ,\n",
       "        0.23386141, 0.2053023 , 0.17081582, 0.14710637, 0.11746955,\n",
       "        0.12501347, 0.11100334, 0.08998815, 0.07490031, 0.07543916,\n",
       "        0.06520099, 0.05604052, 0.04149154, 0.04903546, 0.04364694,\n",
       "        0.03179222, 0.03556418, 0.03179222, 0.0220929 , 0.0242483 ,\n",
       "        0.02963681, 0.025326  , 0.01885979, 0.01993749, 0.02047634,\n",
       "        0.02047634, 0.01670439, 0.01239358, 0.01454898, 0.01131587,\n",
       "        0.01508783, 0.01131587, 0.00916047, 0.01077702, 0.01131587,\n",
       "        0.00646621, 0.01023817, 0.01293243, 0.00377196, 0.00646621]),\n",
       " array([ 0. ,  0.2,  0.4,  0.6,  0.8,  1. ,  1.2,  1.4,  1.6,  1.8,  2. ,\n",
       "         2.2,  2.4,  2.6,  2.8,  3. ,  3.2,  3.4,  3.6,  3.8,  4. ,  4.2,\n",
       "         4.4,  4.6,  4.8,  5. ,  5.2,  5.4,  5.6,  5.8,  6. ,  6.2,  6.4,\n",
       "         6.6,  6.8,  7. ,  7.2,  7.4,  7.6,  7.8,  8. ,  8.2,  8.4,  8.6,\n",
       "         8.8,  9. ,  9.2,  9.4,  9.6,  9.8, 10. ]),\n",
       " <a list of 50 Patch objects>)"
      ]
     },
     "execution_count": 98,
     "metadata": {},
     "output_type": "execute_result"
    },
    {
     "data": {
      "image/png": "[encoded data removed]",
      "text/plain": [
       "<Figure size 432x288 with 1 Axes>"
      ]
     },
     "metadata": {
      "needs_background": "light"
     },
     "output_type": "display_data"
    }
   ],
   "source": [
    "Sn = Pareto(1,1.16,10000)\n",
    "print(\"Expectation :\",Expectation(Sn))\n",
    "print(\"Variance :\",Variance(Sn))\n",
    "plt.hist(Sn,range=[0,10],bins=50,density=True)"
   ]
  },
  {
   "cell_type": "markdown",
   "metadata": {},
   "source": [
    "## $\\chi^2(k)$ Law"
   ]
  },
  {
   "cell_type": "code",
   "execution_count": 124,
   "metadata": {},
   "outputs": [],
   "source": [
    "def khi_deux(k,size=1):\n",
    "    if size == 1:\n",
    "        return sum(np.asarray(Gaussian(0,1,k))**2)\n",
    "    res = []\n",
    "    for i in range(size):\n",
    "        res.append(sum(np.asarray(Gaussian(0,1,k))**2))\n",
    "    return res"
   ]
  },
  {
   "cell_type": "code",
   "execution_count": 125,
   "metadata": {
    "scrolled": false
   },
   "outputs": [
    {
     "name": "stdout",
     "output_type": "stream",
     "text": [
      "Expectation : 5.9667659520134\n",
      "Variance : 11.836768352321585\n"
     ]
    },
    {
     "data": {
      "text/plain": [
       "(array([0.01195551, 0.03700515, 0.06490135, 0.08995099, 0.11386201,\n",
       "        0.1335981 , 0.14137867, 0.13283902, 0.1335981 , 0.12259143,\n",
       "        0.1227812 , 0.10797914, 0.09849064, 0.08615559, 0.07363077,\n",
       "        0.06357296, 0.05920825, 0.05047883, 0.04023124, 0.03472791,\n",
       "        0.03320975, 0.02410079, 0.01973608, 0.01840769, 0.01309413,\n",
       "        0.0113862 , 0.01100666, 0.01081689, 0.00645218, 0.00626241,\n",
       "        0.00455448, 0.00284655, 0.00132839, 0.00360563, 0.00227724,\n",
       "        0.00170793, 0.00151816, 0.00113862, 0.00075908, 0.00037954,\n",
       "        0.00056931, 0.00113862, 0.00056931, 0.00037954, 0.00018977,\n",
       "        0.00037954, 0.00018977, 0.00037954, 0.00018977, 0.00018977]),\n",
       " array([ 0.2001403 ,  0.72709392,  1.25404754,  1.78100116,  2.30795477,\n",
       "         2.83490839,  3.36186201,  3.88881563,  4.41576925,  4.94272286,\n",
       "         5.46967648,  5.9966301 ,  6.52358372,  7.05053733,  7.57749095,\n",
       "         8.10444457,  8.63139819,  9.15835181,  9.68530542, 10.21225904,\n",
       "        10.73921266, 11.26616628, 11.7931199 , 12.32007351, 12.84702713,\n",
       "        13.37398075, 13.90093437, 14.42788798, 14.9548416 , 15.48179522,\n",
       "        16.00874884, 16.53570246, 17.06265607, 17.58960969, 18.11656331,\n",
       "        18.64351693, 19.17047055, 19.69742416, 20.22437778, 20.7513314 ,\n",
       "        21.27828502, 21.80523863, 22.33219225, 22.85914587, 23.38609949,\n",
       "        23.91305311, 24.44000672, 24.96696034, 25.49391396, 26.02086758,\n",
       "        26.5478212 ]),\n",
       " <a list of 50 Patch objects>)"
      ]
     },
     "execution_count": 125,
     "metadata": {},
     "output_type": "execute_result"
    },
    {
     "data": {
      "image/png": "[encoded data removed]",
      "text/plain": [
       "<Figure size 432x288 with 1 Axes>"
      ]
     },
     "metadata": {
      "needs_background": "light"
     },
     "output_type": "display_data"
    }
   ],
   "source": [
    "Sn = khi_deux(6,10000)\n",
    "print(\"Expectation :\",Expectation(Sn))\n",
    "print(\"Variance :\",Variance(Sn))\n",
    "plt.hist(Sn,bins=50,density=True)"
   ]
  }
 ],
 "metadata": {
  "kernelspec": {
   "display_name": "Python 3",
   "language": "python",
   "name": "python3"
  },
  "language_info": {
   "codemirror_mode": {
    "name": "ipython",
    "version": 3
   },
   "file_extension": ".py",
   "mimetype": "text/x-python",
   "name": "python",
   "nbconvert_exporter": "python",
   "pygments_lexer": "ipython3",
   "version": "3.7.3"
  }
 },
 "nbformat": 4,
 "nbformat_minor": 2
}
