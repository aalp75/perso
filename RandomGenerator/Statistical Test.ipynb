{
 "cells": [
  {
   "cell_type": "code",
   "execution_count": 571,
   "metadata": {
    "scrolled": true
   },
   "outputs": [],
   "source": [
    "import numpy as np\n",
    "import math\n",
    "from scipy.stats import chi2\n",
    "from RNG_Uniform import *\n",
    "from RNG_UsualLaw_Discrete import *\n",
    "from RNG_UsualLaw_Continue import *"
   ]
  },
  {
   "cell_type": "markdown",
   "metadata": {},
   "source": [
    "## $\\chi^2$ Test of Homogeneity \n",
    "\n",
    "You can check the wikipedia page on $\\chi^2$ law for table values for $\\alpha = 0.01, 0.05, ...$ https://en.wikipedia.org/wiki/Chi-square_distribution"
   ]
  },
  {
   "cell_type": "code",
   "execution_count": 572,
   "metadata": {},
   "outputs": [],
   "source": [
    "def test_khi2_homo(sample,proba_formula,alpha=0.05):\n",
    "    N = len(sample)\n",
    "    x_min = min(sample)\n",
    "    x_max = max(sample)\n",
    "    df = x_max - x_min # degree of freedom\n",
    "    T = 0\n",
    "    for i in range(x_min,x_max+1):\n",
    "        T += pow( N * proba_formula(i) - sample.count(i),2)/ (N* proba_formula(i))\n",
    "    print(\"degree of freedom :\",df)\n",
    "    if (chi2.cdf(T, df) < 1 - alpha):\n",
    "        print(\"H Accepted\")\n",
    "    else:\n",
    "        print(\"H rejected\")\n",
    "    return T"
   ]
  },
  {
   "cell_type": "code",
   "execution_count": 573,
   "metadata": {},
   "outputs": [],
   "source": [
    "def proba_uniforme(x,a=0,b=1):\n",
    "    return 1/(b-a+1)"
   ]
  },
  {
   "cell_type": "code",
   "execution_count": 574,
   "metadata": {},
   "outputs": [],
   "source": [
    "sample = Uniform_Discrete(1,6,1000)"
   ]
  },
  {
   "cell_type": "code",
   "execution_count": 575,
   "metadata": {},
   "outputs": [
    {
     "name": "stdout",
     "output_type": "stream",
     "text": [
      "degree of freedom : 5\n",
      "H Accepted\n",
      "T = 5.0\n"
     ]
    }
   ],
   "source": [
    "T = test_khi2_homo(sample,lambda x : proba_uniforme(x,1,6),0.05)\n",
    "print(\"T =\",T)"
   ]
  },
  {
   "cell_type": "code",
   "execution_count": 576,
   "metadata": {},
   "outputs": [],
   "source": [
    "def proba_poisson(x,lambdaa = 1):\n",
    "    return (np.exp(-lambdaa)*pow(lambdaa,x)/np.math.factorial(x))"
   ]
  },
  {
   "cell_type": "code",
   "execution_count": 577,
   "metadata": {},
   "outputs": [],
   "source": [
    "sample = Poisson(1.2,1000)"
   ]
  },
  {
   "cell_type": "code",
   "execution_count": 578,
   "metadata": {},
   "outputs": [
    {
     "name": "stdout",
     "output_type": "stream",
     "text": [
      "degree of freedom : 6\n",
      "H Accepted\n",
      "T = 3.3558803971064517\n"
     ]
    }
   ],
   "source": [
    "T = test_khi2_homo(sample,lambda x : proba_poisson(x,1.2))\n",
    "print(\"T =\",T)"
   ]
  },
  {
   "cell_type": "markdown",
   "metadata": {},
   "source": [
    "## $\\chi^2$ Test of Independance"
   ]
  },
  {
   "cell_type": "code",
   "execution_count": 579,
   "metadata": {},
   "outputs": [],
   "source": [
    "def test_khi2_indep(X,Y,alpha=0.05):\n",
    "    \"\"\"\n",
    "    X and Y are 2 sample of size n and m\n",
    "    \"\"\"\n",
    "    N = len(X)\n",
    "    x_min, x_max, y_min, y_max = min(X), max(X), min(Y), max(Y)\n",
    "    T = 0\n",
    "    df = (x_max - x_min)*(y_max-y_min)\n",
    "    for i in range(x_min,x_max+1):\n",
    "        for j in range(y_min,y_max+1):\n",
    "            O = 0\n",
    "            for k in range(N):\n",
    "                if (X[k] == i and Y[k] == j):\n",
    "                    O +=1\n",
    "            E = (X.count(i) * Y.count(j)) / N\n",
    "            T += pow(O - E,2) / E\n",
    "    print(\"degree of freedom :\",df)\n",
    "    if (chi2.cdf(T, df) < 1 - alpha):\n",
    "        print(\"H Accepted\")\n",
    "    else:\n",
    "        print(\"H rejected\")\n",
    "    return T"
   ]
  },
  {
   "cell_type": "code",
   "execution_count": 580,
   "metadata": {},
   "outputs": [],
   "source": [
    "X = Uniform_Discrete(1,6,1000)\n",
    "Y = Uniform_Discrete(1,6,1000)"
   ]
  },
  {
   "cell_type": "code",
   "execution_count": 581,
   "metadata": {},
   "outputs": [
    {
     "name": "stdout",
     "output_type": "stream",
     "text": [
      "degree of freedom : 25\n",
      "H Accepted\n",
      "15.521602321118086\n"
     ]
    }
   ],
   "source": [
    "T = test_khi2_indep(X,Y)\n",
    "print(T)"
   ]
  },
  {
   "cell_type": "markdown",
   "metadata": {},
   "source": [
    "## Kolmogorov–Smirnov test"
   ]
  },
  {
   "cell_type": "code",
   "execution_count": 582,
   "metadata": {},
   "outputs": [],
   "source": [
    "from scipy.stats import norm\n",
    "from scipy.special import kolmogorov\n",
    "from scipy import stats\n",
    "from scipy.stats import ksone"
   ]
  },
  {
   "cell_type": "code",
   "execution_count": 583,
   "metadata": {},
   "outputs": [],
   "source": [
    "def KS_test(sample,cdf,alpha=0.05):\n",
    "    \n",
    "    def ks_critical_value(n_trials, alphaa):\n",
    "        return ksone.ppf(1-alphaa/2, n_trials)\n",
    "\n",
    "\n",
    "    N = len(sample)\n",
    "    sample.sort()\n",
    "    K = 0 \n",
    "    for i in range(N):\n",
    "        D = abs ((i+1)/N - cdf(sample[i]))\n",
    "        if (K < D  ):\n",
    "            K = D\n",
    "    if (K < ks_critical_value(N, alpha)):\n",
    "        print(\"H Accepted\")\n",
    "    else:\n",
    "        print(\"H rejected\")\n",
    "    return K"
   ]
  },
  {
   "cell_type": "code",
   "execution_count": 584,
   "metadata": {},
   "outputs": [],
   "source": [
    "sample = Gaussian(0,1.1,10000)"
   ]
  },
  {
   "cell_type": "code",
   "execution_count": 585,
   "metadata": {},
   "outputs": [
    {
     "name": "stdout",
     "output_type": "stream",
     "text": [
      "H Accepted\n",
      "0.017375569098744714\n"
     ]
    }
   ],
   "source": [
    "K = KS_test(sample,norm.cdf,alpha=0.001)\n",
    "print(K)"
   ]
  },
  {
   "cell_type": "code",
   "execution_count": 586,
   "metadata": {},
   "outputs": [
    {
     "data": {
      "text/plain": [
       "KstestResult(statistic=0.017475569098744703, pvalue=0.004450391821262974)"
      ]
     },
     "execution_count": 586,
     "metadata": {},
     "output_type": "execute_result"
    }
   ],
   "source": [
    "stats.kstest(sample, norm.cdf)"
   ]
  }
 ],
 "metadata": {
  "kernelspec": {
   "display_name": "Python 3",
   "language": "python",
   "name": "python3"
  },
  "language_info": {
   "codemirror_mode": {
    "name": "ipython",
    "version": 3
   },
   "file_extension": ".py",
   "mimetype": "text/x-python",
   "name": "python",
   "nbconvert_exporter": "python",
   "pygments_lexer": "ipython3",
   "version": "3.7.3"
  }
 },
 "nbformat": 4,
 "nbformat_minor": 2
}
