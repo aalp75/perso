{
 "cells": [
  {
   "cell_type": "code",
   "execution_count": 255,
   "metadata": {},
   "outputs": [],
   "source": [
    "import numpy as np\n",
    "import math\n",
    "from RNG_Uniform import *\n",
    "from RNG_UsualLaw_Continue import *"
   ]
  },
  {
   "cell_type": "markdown",
   "metadata": {},
   "source": [
    "## Metropolis Hastings on $\\mathbb{R}$ with $\\mathcal{N}(\\mu,\\sigma^2)$"
   ]
  },
  {
   "cell_type": "code",
   "execution_count": 260,
   "metadata": {},
   "outputs": [],
   "source": [
    "def MH(pi,size =10000,sigma = 1,start_point=1):\n",
    "    \"\"\"\n",
    "    Metropolis Hasting algorithm\n",
    "    pi is the target law\n",
    "    size is the length of the output series\n",
    "    sigma is the standart deviation of the gaussian law use to generate candidate\n",
    "    start_point is the 1st value of the series\n",
    "    \"\"\"\n",
    "    x0 = start_point\n",
    "    res =[x0]\n",
    "    xt = x0\n",
    "    acceptance = 0\n",
    "    for i in range(size):\n",
    "        y = xt + Gaussian(0,sigma**2,1)\n",
    "        alpha = pi(y) / pi(xt)\n",
    "        U = MT.uniform()\n",
    "        if (U<alpha):\n",
    "            res.append(y)\n",
    "            xt =y \n",
    "            acceptance +=1\n",
    "        else:\n",
    "            res.append(xt)\n",
    "    print(\"Acceptance Ratio :\",acceptance/size)\n",
    "    return res\n",
    "        "
   ]
  },
  {
   "cell_type": "markdown",
   "metadata": {},
   "source": [
    "Some Examples for usual law"
   ]
  },
  {
   "cell_type": "code",
   "execution_count": 269,
   "metadata": {},
   "outputs": [],
   "source": [
    "def gaussian_density(x):\n",
    "    mu, sigma = 5,1 # mean and standard deviation\n",
    "    num = np.exp( - ( x - mu )**2 / ( 2.0 * sigma **2 ) )\n",
    "    den = np.sqrt( 2 * np.pi * sigma **2)\n",
    "    return  num / den"
   ]
  },
  {
   "cell_type": "code",
   "execution_count": 270,
   "metadata": {},
   "outputs": [
    {
     "name": "stdout",
     "output_type": "stream",
     "text": [
      "Acceptance Ratio : 0.7081\n"
     ]
    }
   ],
   "source": [
    "sample = MH(gaussian_density)"
   ]
  },
  {
   "cell_type": "code",
   "execution_count": 271,
   "metadata": {},
   "outputs": [
    {
     "data": {
      "text/plain": [
       "(array([0.00323248, 0.00452547, 0.00129299, 0.0006465 , 0.        ,\n",
       "        0.00129299, 0.00840445, 0.01163693, 0.01422292, 0.02327387,\n",
       "        0.02198088, 0.04008277, 0.04396175, 0.07628657, 0.07887256,\n",
       "        0.10020694, 0.13382475, 0.17455402, 0.21592979, 0.25019409,\n",
       "        0.2838119 , 0.34393607, 0.36591694, 0.3917768 , 0.37561439,\n",
       "        0.36397745, 0.40729271, 0.38531183, 0.37432139, 0.31031825,\n",
       "        0.30967176, 0.28316541, 0.24760811, 0.19006993, 0.12865278,\n",
       "        0.11119737, 0.08016555, 0.09180248, 0.06464964, 0.0349108 ,\n",
       "        0.02909234, 0.0181019 , 0.02909234, 0.01292993, 0.00905095,\n",
       "        0.00452547, 0.00711146, 0.00452547, 0.0006465 , 0.00193949]),\n",
       " array([1.        , 1.15466444, 1.30932889, 1.46399333, 1.61865778,\n",
       "        1.77332222, 1.92798667, 2.08265111, 2.23731556, 2.39198   ,\n",
       "        2.54664445, 2.70130889, 2.85597334, 3.01063778, 3.16530223,\n",
       "        3.31996667, 3.47463112, 3.62929556, 3.78396   , 3.93862445,\n",
       "        4.09328889, 4.24795334, 4.40261778, 4.55728223, 4.71194667,\n",
       "        4.86661112, 5.02127556, 5.17594001, 5.33060445, 5.4852689 ,\n",
       "        5.63993334, 5.79459779, 5.94926223, 6.10392668, 6.25859112,\n",
       "        6.41325556, 6.56792001, 6.72258445, 6.8772489 , 7.03191334,\n",
       "        7.18657779, 7.34124223, 7.49590668, 7.65057112, 7.80523557,\n",
       "        7.95990001, 8.11456446, 8.2692289 , 8.42389335, 8.57855779,\n",
       "        8.73322224]),\n",
       " <a list of 50 Patch objects>)"
      ]
     },
     "execution_count": 271,
     "metadata": {},
     "output_type": "execute_result"
    },
    {
     "data": {
      "image/png": "[encoded data removed]",
      "text/plain": [
       "<Figure size 432x288 with 1 Axes>"
      ]
     },
     "metadata": {
      "needs_background": "light"
     },
     "output_type": "display_data"
    }
   ],
   "source": [
    "x_array = np.linspace(-5.0, 15.0, 100)\n",
    "y_array = np.asarray( [gaussian_density(x) for x in x_array] )\n",
    "\n",
    "plt.plot(x_array,y_array)\n",
    "plt.hist(sample, bins=50,density=True,color='b')"
   ]
  },
  {
   "cell_type": "code",
   "execution_count": 272,
   "metadata": {},
   "outputs": [],
   "source": [
    "def exponential_density(x):\n",
    "    lambdaa = 2\n",
    "    if x<0:\n",
    "        return 0\n",
    "    else:\n",
    "        return lambdaa*np.exp(-lambdaa*x)"
   ]
  },
  {
   "cell_type": "code",
   "execution_count": 273,
   "metadata": {},
   "outputs": [
    {
     "name": "stdout",
     "output_type": "stream",
     "text": [
      "Acceptance Ratio : 0.3338\n"
     ]
    }
   ],
   "source": [
    "sample = MH(exponential_density,pow(10,4))"
   ]
  },
  {
   "cell_type": "code",
   "execution_count": 274,
   "metadata": {},
   "outputs": [
    {
     "data": {
      "text/plain": [
       "(array([1.80834285e+00, 1.49907083e+00, 1.16426258e+00, 9.82671666e-01,\n",
       "        7.75544530e-01, 6.71508068e-01, 4.73838792e-01, 3.96284339e-01,\n",
       "        3.70748117e-01, 2.81844232e-01, 2.09018709e-01, 1.55108906e-01,\n",
       "        1.04982247e-01, 1.22006396e-01, 1.06873819e-01, 5.58013747e-02,\n",
       "        5.10724446e-02, 5.10724446e-02, 2.36446503e-02, 1.60783622e-02,\n",
       "        2.93193664e-02, 1.60783622e-02, 1.13494321e-02, 1.60783622e-02,\n",
       "        1.13494321e-02, 1.13494321e-02, 1.32410042e-02, 3.78314405e-03,\n",
       "        4.72893006e-03, 6.62050208e-03, 1.89157202e-03, 9.45786012e-04,\n",
       "        1.89157202e-03, 9.45786012e-04, 0.00000000e+00, 9.45786012e-04,\n",
       "        0.00000000e+00, 1.89157202e-03, 1.89157202e-03, 9.45786012e-04,\n",
       "        0.00000000e+00, 0.00000000e+00, 0.00000000e+00, 0.00000000e+00,\n",
       "        0.00000000e+00, 0.00000000e+00, 9.45786012e-04, 0.00000000e+00,\n",
       "        9.45786012e-04, 1.89157202e-03]),\n",
       " array([3.40546080e-04, 1.06062136e-01, 2.11783726e-01, 3.17505316e-01,\n",
       "        4.23226906e-01, 5.28948496e-01, 6.34670086e-01, 7.40391676e-01,\n",
       "        8.46113266e-01, 9.51834856e-01, 1.05755645e+00, 1.16327804e+00,\n",
       "        1.26899963e+00, 1.37472122e+00, 1.48044281e+00, 1.58616440e+00,\n",
       "        1.69188599e+00, 1.79760758e+00, 1.90332917e+00, 2.00905076e+00,\n",
       "        2.11477235e+00, 2.22049394e+00, 2.32621553e+00, 2.43193712e+00,\n",
       "        2.53765871e+00, 2.64338030e+00, 2.74910189e+00, 2.85482348e+00,\n",
       "        2.96054507e+00, 3.06626666e+00, 3.17198825e+00, 3.27770984e+00,\n",
       "        3.38343143e+00, 3.48915302e+00, 3.59487461e+00, 3.70059620e+00,\n",
       "        3.80631779e+00, 3.91203938e+00, 4.01776097e+00, 4.12348256e+00,\n",
       "        4.22920415e+00, 4.33492574e+00, 4.44064733e+00, 4.54636892e+00,\n",
       "        4.65209051e+00, 4.75781210e+00, 4.86353369e+00, 4.96925528e+00,\n",
       "        5.07497687e+00, 5.18069846e+00, 5.28642005e+00]),\n",
       " <a list of 50 Patch objects>)"
      ]
     },
     "execution_count": 274,
     "metadata": {},
     "output_type": "execute_result"
    },
    {
     "data": {
      "image/png": "[encoded data removed]",
      "text/plain": [
       "<Figure size 432x288 with 1 Axes>"
      ]
     },
     "metadata": {
      "needs_background": "light"
     },
     "output_type": "display_data"
    }
   ],
   "source": [
    "x_array = np.linspace(0, 15.0, 50)\n",
    "y_array = np.asarray( [exponential_density(x) for x in x_array] )\n",
    "\n",
    "plt.plot(x_array,y_array)\n",
    "plt.hist(sample, bins=50,density=True,color ='b')"
   ]
  },
  {
   "cell_type": "code",
   "execution_count": 275,
   "metadata": {},
   "outputs": [],
   "source": [
    "def gamma_density(x):\n",
    "    k,theta = 1 , 4\n",
    "    if x<0:\n",
    "        return 0\n",
    "    else:\n",
    "        return ((pow(x,k-1)*np.exp(-x/theta))/(pow(theta,k)*math.gamma(k)))"
   ]
  },
  {
   "cell_type": "code",
   "execution_count": 276,
   "metadata": {},
   "outputs": [
    {
     "name": "stdout",
     "output_type": "stream",
     "text": [
      "Acceptance Ratio : 0.1562\n"
     ]
    }
   ],
   "source": [
    "sample = MH(gamma_density,pow(10,4),sigma=20)"
   ]
  },
  {
   "cell_type": "code",
   "execution_count": 277,
   "metadata": {},
   "outputs": [
    {
     "data": {
      "text/plain": [
       "(array([2.59589563e-01, 2.35920193e-01, 1.77288224e-01, 1.58878714e-01,\n",
       "        1.11230570e-01, 8.30748484e-02, 8.52406731e-02, 8.05996201e-02,\n",
       "        5.36815128e-02, 5.01233722e-02, 2.98574408e-02, 3.52720027e-02,\n",
       "        2.84651249e-02, 1.98018261e-02, 1.99565278e-02, 1.79454049e-02,\n",
       "        1.37684572e-02, 1.76360013e-02, 1.22214395e-02, 5.87866711e-03,\n",
       "        3.86754415e-03, 7.27098300e-03, 8.04449183e-03, 4.64105298e-03,\n",
       "        3.24873709e-03, 5.41456181e-03, 2.93933355e-03, 1.23761413e-03,\n",
       "        1.70171943e-03, 2.32052649e-03, 3.09403532e-04, 1.70171943e-03,\n",
       "        1.85642119e-03, 3.09403532e-04, 1.70171943e-03, 9.28210596e-04,\n",
       "        4.64105298e-04, 3.09403532e-04, 3.09403532e-04, 6.18807064e-04,\n",
       "        9.28210596e-04, 0.00000000e+00, 1.54701766e-04, 0.00000000e+00,\n",
       "        0.00000000e+00, 0.00000000e+00, 0.00000000e+00, 3.09403532e-04,\n",
       "        0.00000000e+00, 1.54701766e-04]),\n",
       " array([7.69214965e-03, 6.54032547e-01, 1.30037295e+00, 1.94671334e+00,\n",
       "        2.59305374e+00, 3.23939414e+00, 3.88573454e+00, 4.53207493e+00,\n",
       "        5.17841533e+00, 5.82475573e+00, 6.47109613e+00, 7.11743653e+00,\n",
       "        7.76377692e+00, 8.41011732e+00, 9.05645772e+00, 9.70279812e+00,\n",
       "        1.03491385e+01, 1.09954789e+01, 1.16418193e+01, 1.22881597e+01,\n",
       "        1.29345001e+01, 1.35808405e+01, 1.42271809e+01, 1.48735213e+01,\n",
       "        1.55198617e+01, 1.61662021e+01, 1.68125425e+01, 1.74588829e+01,\n",
       "        1.81052233e+01, 1.87515637e+01, 1.93979041e+01, 2.00442445e+01,\n",
       "        2.06905849e+01, 2.13369253e+01, 2.19832657e+01, 2.26296061e+01,\n",
       "        2.32759465e+01, 2.39222869e+01, 2.45686273e+01, 2.52149677e+01,\n",
       "        2.58613081e+01, 2.65076485e+01, 2.71539889e+01, 2.78003293e+01,\n",
       "        2.84466697e+01, 2.90930101e+01, 2.97393505e+01, 3.03856908e+01,\n",
       "        3.10320312e+01, 3.16783716e+01, 3.23247120e+01]),\n",
       " <a list of 50 Patch objects>)"
      ]
     },
     "execution_count": 277,
     "metadata": {},
     "output_type": "execute_result"
    },
    {
     "data": {
      "image/png": "[encoded data removed]",
      "text/plain": [
       "<Figure size 432x288 with 1 Axes>"
      ]
     },
     "metadata": {
      "needs_background": "light"
     },
     "output_type": "display_data"
    }
   ],
   "source": [
    "x_array = np.linspace(0, 15.0, 50)\n",
    "y_array = np.asarray( [gamma_density(x) for x in x_array] )\n",
    "\n",
    "plt.plot(x_array,y_array)\n",
    "plt.hist(sample, bins=50,density=True,color='b')"
   ]
  },
  {
   "cell_type": "code",
   "execution_count": 278,
   "metadata": {},
   "outputs": [],
   "source": [
    "def autocorrelation(x, lags = 50):\n",
    "    res=[]\n",
    "    n = len(sample)\n",
    "    mu = Expectation(sample)\n",
    "    sigma2 = Variance(sample)\n",
    "    for k in range(lags):\n",
    "        R = 0.0\n",
    "        for i in range(n-k):\n",
    "            R+= (sample[i] - mu)*(sample[i+k]-mu)\n",
    "        res.append(abs(R/((n-k)*sigma2)))\n",
    "    plt.figure()\n",
    "    plt.bar([i for i in range(lags)],res)\n",
    "    plt.ylim(0,1)\n",
    "    plt.title(\"Autocorrelation\")\n",
    "    plt.xlabel('Lags')\n",
    "    plt.show()\n",
    "    return res"
   ]
  },
  {
   "cell_type": "markdown",
   "metadata": {},
   "source": [
    "As we increase the variance for the Metropolis Hasting, the autocorrelation of the time series decreases.\n",
    "But as the variance increase the acceptance ratio decrease aswell.\n",
    "\n",
    "We need to find the good trade-off between low autocorrelation and good acceptance ratio.\n",
    "\n",
    "In the literature a good acceptance ratio is 0.25. It correspond here to $\\sigma=5$.\n",
    "\n",
    "Note that the law for generate a candidate has an impact aswell."
   ]
  },
  {
   "cell_type": "code",
   "execution_count": 279,
   "metadata": {},
   "outputs": [
    {
     "name": "stdout",
     "output_type": "stream",
     "text": [
      "Sigma : 0.1\n",
      "Acceptance Ratio : 0.9634\n"
     ]
    },
    {
     "data": {
      "image/png": "[encoded data removed]",
      "text/plain": [
       "<Figure size 432x288 with 1 Axes>"
      ]
     },
     "metadata": {
      "needs_background": "light"
     },
     "output_type": "display_data"
    },
    {
     "name": "stdout",
     "output_type": "stream",
     "text": [
      "Sigma : 0.5\n",
      "Acceptance Ratio : 0.8535\n"
     ]
    },
    {
     "data": {
      "image/png": "[encoded data removed]",
      "text/plain": [
       "<Figure size 432x288 with 1 Axes>"
      ]
     },
     "metadata": {
      "needs_background": "light"
     },
     "output_type": "display_data"
    },
    {
     "name": "stdout",
     "output_type": "stream",
     "text": [
      "Sigma : 1\n",
      "Acceptance Ratio : 0.7044\n"
     ]
    },
    {
     "data": {
      "image/png": "[encoded data removed]",
      "text/plain": [
       "<Figure size 432x288 with 1 Axes>"
      ]
     },
     "metadata": {
      "needs_background": "light"
     },
     "output_type": "display_data"
    },
    {
     "name": "stdout",
     "output_type": "stream",
     "text": [
      "Sigma : 5\n",
      "Acceptance Ratio : 0.2319\n"
     ]
    },
    {
     "data": {
      "image/png": "[encoded data removed]",
      "text/plain": [
       "<Figure size 432x288 with 1 Axes>"
      ]
     },
     "metadata": {
      "needs_background": "light"
     },
     "output_type": "display_data"
    },
    {
     "name": "stdout",
     "output_type": "stream",
     "text": [
      "Sigma : 10\n",
      "Acceptance Ratio : 0.12\n"
     ]
    },
    {
     "data": {
      "image/png": "[encoded data removed]",
      "text/plain": [
       "<Figure size 432x288 with 1 Axes>"
      ]
     },
     "metadata": {
      "needs_background": "light"
     },
     "output_type": "display_data"
    }
   ],
   "source": [
    "for sigmaa in [0.1,0.5,1,5,10]:\n",
    "    print(\"Sigma :\",sigmaa)\n",
    "    sample = MH(gaussian_density,pow(10,4),sigma=sigmaa)\n",
    "    _ = autocorrelation(sample)"
   ]
  },
  {
   "cell_type": "code",
   "execution_count": null,
   "metadata": {},
   "outputs": [],
   "source": []
  }
 ],
 "metadata": {
  "kernelspec": {
   "display_name": "Python 3",
   "language": "python",
   "name": "python3"
  },
  "language_info": {
   "codemirror_mode": {
    "name": "ipython",
    "version": 3
   },
   "file_extension": ".py",
   "mimetype": "text/x-python",
   "name": "python",
   "nbconvert_exporter": "python",
   "pygments_lexer": "ipython3",
   "version": "3.7.3"
  }
 },
 "nbformat": 4,
 "nbformat_minor": 2
}
