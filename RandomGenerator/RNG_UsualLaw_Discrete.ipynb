{
 "cells": [
  {
   "cell_type": "markdown",
   "metadata": {},
   "source": [
    "# Generator of Discrete Random Variable with Mersenne Twister"
   ]
  },
  {
   "cell_type": "code",
   "execution_count": 94,
   "metadata": {},
   "outputs": [],
   "source": [
    "import numpy as np\n",
    "from RNG_Uniform import *"
   ]
  },
  {
   "cell_type": "code",
   "execution_count": 95,
   "metadata": {},
   "outputs": [],
   "source": [
    "MT=MT19937()\n",
    "MT.seed(3213)"
   ]
  },
  {
   "cell_type": "code",
   "execution_count": 96,
   "metadata": {},
   "outputs": [],
   "source": [
    "def Expectation(Xn):\n",
    "    return sum(Xn)/len(Xn)\n",
    "\n",
    "def Variance(Xn):\n",
    "    exp=Expectation(Xn)\n",
    "    var=0\n",
    "    for i in range(len(Xn)):\n",
    "        var += pow((Xn[i]-exp),2)\n",
    "    return(var/len(Xn))"
   ]
  },
  {
   "cell_type": "markdown",
   "metadata": {},
   "source": [
    "## Uniform Discrete"
   ]
  },
  {
   "cell_type": "code",
   "execution_count": 172,
   "metadata": {},
   "outputs": [],
   "source": [
    "def Uniform_Discrete(a,b,size=1):\n",
    "    '''\n",
    "    Give a random number between a and b with uniform probability\n",
    "    '''\n",
    "    if size==1:\n",
    "        U = MT.uniform()\n",
    "        return a + int( U * (b-a+1))\n",
    "    res = []\n",
    "    for i in range(size):\n",
    "        U = MT.uniform()\n",
    "        res.append(a + int( U * (b-a+1)))\n",
    "    return res\n",
    "        "
   ]
  },
  {
   "cell_type": "code",
   "execution_count": 179,
   "metadata": {},
   "outputs": [
    {
     "name": "stdout",
     "output_type": "stream",
     "text": [
      "Expectation : 0.0113\n",
      "Variance : 9.967572310000184\n"
     ]
    },
    {
     "data": {
      "text/plain": [
       "(array([908., 905., 916., 873., 886., 939., 922., 924., 925., 902., 900.]),\n",
       " array([-5.        , -4.09090909, -3.18181818, -2.27272727, -1.36363636,\n",
       "        -0.45454545,  0.45454545,  1.36363636,  2.27272727,  3.18181818,\n",
       "         4.09090909,  5.        ]),\n",
       " <a list of 11 Patch objects>)"
      ]
     },
     "execution_count": 179,
     "metadata": {},
     "output_type": "execute_result"
    },
    {
     "data": {
      "image/png": "[encoded data removed]",
      "text/plain": [
       "<Figure size 432x288 with 1 Axes>"
      ]
     },
     "metadata": {
      "needs_background": "light"
     },
     "output_type": "display_data"
    }
   ],
   "source": [
    "Sn = Uniform_Discrete(-5,5,10000)\n",
    "print(\"Expectation :\",Expectation(Sn))\n",
    "print(\"Variance :\",Variance(Sn))\n",
    "plt.hist(Sn,bins=11)"
   ]
  },
  {
   "cell_type": "markdown",
   "metadata": {},
   "source": [
    "## Bernouilli"
   ]
  },
  {
   "cell_type": "code",
   "execution_count": 62,
   "metadata": {},
   "outputs": [],
   "source": [
    "def Bernouilli(p,size=1):\n",
    "    if size==1:\n",
    "        U = MT.uniform()\n",
    "        if (U<1-p):\n",
    "            return 0\n",
    "        else:\n",
    "            return 1\n",
    "    res=[]\n",
    "    for i in range(size):\n",
    "        U = MT.uniform()\n",
    "        if (U<1-p):\n",
    "            res.append(0)\n",
    "        else:\n",
    "            res.append(1)\n",
    "    return res"
   ]
  },
  {
   "cell_type": "code",
   "execution_count": 60,
   "metadata": {
    "scrolled": true
   },
   "outputs": [
    {
     "name": "stdout",
     "output_type": "stream",
     "text": [
      "Expectation : 0.29929\n",
      "Variance : 0.2097154959001368\n",
      "0.21\n"
     ]
    },
    {
     "data": {
      "text/plain": [
       "(array([70071.,     0.,     0.,     0.,     0.,     0.,     0.,     0.,\n",
       "            0., 29929.]),\n",
       " array([0. , 0.1, 0.2, 0.3, 0.4, 0.5, 0.6, 0.7, 0.8, 0.9, 1. ]),\n",
       " <a list of 10 Patch objects>)"
      ]
     },
     "execution_count": 60,
     "metadata": {},
     "output_type": "execute_result"
    },
    {
     "data": {
      "image/png": "[encoded data removed]",
      "text/plain": [
       "<Figure size 432x288 with 1 Axes>"
      ]
     },
     "metadata": {
      "needs_background": "light"
     },
     "output_type": "display_data"
    }
   ],
   "source": [
    "size = 100000\n",
    "Sn=Bernouilli(0.3,size)\n",
    "print(\"Expectation :\",Expectation(Sn))\n",
    "print(\"Variance :\",Variance(Sn))\n",
    "print(0.3*0.7)\n",
    "plt.hist(Sn)"
   ]
  },
  {
   "cell_type": "markdown",
   "metadata": {},
   "source": [
    "## Binomial"
   ]
  },
  {
   "cell_type": "code",
   "execution_count": 194,
   "metadata": {},
   "outputs": [],
   "source": [
    "def Binomial(n,p,size=1):\n",
    "    if size == 1 :\n",
    "        return(sum(Bernouilli(p,n)))\n",
    "    res = []\n",
    "    for i in range(size):\n",
    "        res.append(sum(Bernouilli(p,int(n))))\n",
    "    return res\n",
    "        "
   ]
  },
  {
   "cell_type": "code",
   "execution_count": 195,
   "metadata": {},
   "outputs": [
    {
     "name": "stdout",
     "output_type": "stream",
     "text": [
      "Expectation : 2.99842\n",
      "Variance : 2.094237503599901\n"
     ]
    },
    {
     "data": {
      "text/plain": [
       "(array([2.8420e+03, 1.2117e+04, 2.3277e+04, 2.6651e+04, 2.0247e+04,\n",
       "        1.0196e+04, 3.6380e+03, 8.5000e+02, 1.6700e+02, 1.5000e+01]),\n",
       " array([ 0.,  1.,  2.,  3.,  4.,  5.,  6.,  7.,  8.,  9., 10.]),\n",
       " <a list of 10 Patch objects>)"
      ]
     },
     "execution_count": 195,
     "metadata": {},
     "output_type": "execute_result"
    },
    {
     "data": {
      "image/png": "[encoded data removed]",
      "text/plain": [
       "<Figure size 432x288 with 1 Axes>"
      ]
     },
     "metadata": {
      "needs_background": "light"
     },
     "output_type": "display_data"
    }
   ],
   "source": [
    "Sn = Binomial(10,0.3,size=100000)\n",
    "print(\"Expectation :\",Expectation(Sn))\n",
    "print(\"Variance :\",Variance(Sn))\n",
    "plt.hist(Sn)"
   ]
  },
  {
   "cell_type": "markdown",
   "metadata": {},
   "source": [
    "## Geometric\n"
   ]
  },
  {
   "cell_type": "code",
   "execution_count": 196,
   "metadata": {},
   "outputs": [],
   "source": [
    "def Geometric(p,size=1):\n",
    "    if size==1:\n",
    "        res = 1\n",
    "        U = MT.uniform()\n",
    "        while (U>p):\n",
    "            U = MT.uniform()\n",
    "            res +=1\n",
    "        return res\n",
    "    res = []\n",
    "    for i in range(n):\n",
    "        U = MT.uniform()\n",
    "        res_tmp = 1\n",
    "        while (U>p):\n",
    "            U = MT.uniform()\n",
    "            res_tmp +=1\n",
    "        res.append(res_tmp)\n",
    "    return res"
   ]
  },
  {
   "cell_type": "code",
   "execution_count": 197,
   "metadata": {},
   "outputs": [
    {
     "name": "stdout",
     "output_type": "stream",
     "text": [
      "Expectation : 2.03\n",
      "Variance : 2.178100000000005\n"
     ]
    },
    {
     "data": {
      "text/plain": [
       "(array([1.492e+03, 2.300e+02, 1.370e+02, 6.500e+01, 3.700e+01, 2.100e+01,\n",
       "        1.000e+01, 3.000e+00, 4.000e+00, 1.000e+00]),\n",
       " array([ 1. ,  2.1,  3.2,  4.3,  5.4,  6.5,  7.6,  8.7,  9.8, 10.9, 12. ]),\n",
       " <a list of 10 Patch objects>)"
      ]
     },
     "execution_count": 197,
     "metadata": {},
     "output_type": "execute_result"
    },
    {
     "data": {
      "image/png": "[encoded data removed]",
      "text/plain": [
       "<Figure size 432x288 with 1 Axes>"
      ]
     },
     "metadata": {
      "needs_background": "light"
     },
     "output_type": "display_data"
    }
   ],
   "source": [
    "Sn = Geometric(0.5,size=10000)\n",
    "print(\"Expectation :\",Expectation(Sn))\n",
    "print(\"Variance :\",Variance(Sn))\n",
    "plt.hist(Sn)"
   ]
  },
  {
   "cell_type": "markdown",
   "metadata": {},
   "source": [
    "## Poisson"
   ]
  },
  {
   "cell_type": "markdown",
   "metadata": {},
   "source": [
    "Simultion method using the Th. : $(X_n)$ is an i.i.d. sequence of exponential law of parameters $\\lambda$ then for $S_n = \\sum_{i=1}^n X_n$ $\\forall n \\in \\mathbb{N}, \\mathbb{P}(S_n \\le 1 \\le S_{n+1})=\\frac{\\lambda^k}{k!}e^{-k}$ \n",
    "$\\textit{Looking for Proof}$"
   ]
  },
  {
   "cell_type": "code",
   "execution_count": 237,
   "metadata": {},
   "outputs": [],
   "source": [
    "def Poisson(lambdaa,size=1):\n",
    "    if size==1:\n",
    "        k=0\n",
    "        p=1\n",
    "        while (p > np.exp(-lambdaa)):\n",
    "            U = MT.uniform()\n",
    "            p = p*u\n",
    "            k +=1\n",
    "        return (k-1)\n",
    "    res = []\n",
    "    for i in range(size):\n",
    "        k=0\n",
    "        p=1\n",
    "        cond = np.exp(-lambdaa)\n",
    "        while (p > cond):\n",
    "            U = MT.uniform()\n",
    "            p = p*U\n",
    "            k +=1\n",
    "        res.append(k-1)\n",
    "    return res"
   ]
  },
  {
   "cell_type": "code",
   "execution_count": 239,
   "metadata": {},
   "outputs": [
    {
     "name": "stdout",
     "output_type": "stream",
     "text": [
      "Expectation : 5.0029\n",
      "Variance : 5.038091589999929\n"
     ]
    },
    {
     "data": {
      "text/plain": [
       "(array([4.020e+02, 2.244e+03, 1.768e+03, 3.215e+03, 1.000e+03, 1.048e+03,\n",
       "        2.710e+02, 3.700e+01, 1.400e+01, 1.000e+00]),\n",
       " array([ 0. ,  1.6,  3.2,  4.8,  6.4,  8. ,  9.6, 11.2, 12.8, 14.4, 16. ]),\n",
       " <a list of 10 Patch objects>)"
      ]
     },
     "execution_count": 239,
     "metadata": {},
     "output_type": "execute_result"
    },
    {
     "data": {
      "image/png": "[encoded data removed]",
      "text/plain": [
       "<Figure size 432x288 with 1 Axes>"
      ]
     },
     "metadata": {
      "needs_background": "light"
     },
     "output_type": "display_data"
    }
   ],
   "source": [
    "Sn = Poisson(5,size=10000)\n",
    "print(\"Expectation :\",Expectation(Sn))\n",
    "print(\"Variance :\",Variance(Sn))\n",
    "plt.hist(Sn)"
   ]
  },
  {
   "cell_type": "markdown",
   "metadata": {},
   "source": [
    "Another simulation method using the fact that the Poisson law is the limit of a Binomial($n$,$p_n$) with $p_n = \\frac{\\lambda}{n}$.\n",
    "A minimal condition is $\\lambda <10$"
   ]
  },
  {
   "cell_type": "code",
   "execution_count": 204,
   "metadata": {},
   "outputs": [],
   "source": [
    "def Poisson_2(lambdaa,size=1):\n",
    "    n = 100.0\n",
    "    p = lambdaa/n\n",
    "    if size==1:\n",
    "        return Binomial(n,p,1)\n",
    "    return Binomial(n,p,size)"
   ]
  },
  {
   "cell_type": "code",
   "execution_count": 207,
   "metadata": {},
   "outputs": [
    {
     "name": "stdout",
     "output_type": "stream",
     "text": [
      "Expectation : 4.0307\n",
      "Variance : 3.820957510000061\n"
     ]
    },
    {
     "data": {
      "text/plain": [
       "(array([ 826., 1414., 1994., 3621., 1067.,  575.,  437.,   41.,   19.,\n",
       "           6.]),\n",
       " array([ 0. ,  1.3,  2.6,  3.9,  5.2,  6.5,  7.8,  9.1, 10.4, 11.7, 13. ]),\n",
       " <a list of 10 Patch objects>)"
      ]
     },
     "execution_count": 207,
     "metadata": {},
     "output_type": "execute_result"
    },
    {
     "data": {
      "image/png": "[encoded data removed]",
      "text/plain": [
       "<Figure size 432x288 with 1 Axes>"
      ]
     },
     "metadata": {
      "needs_background": "light"
     },
     "output_type": "display_data"
    }
   ],
   "source": [
    "Sn = Poisson_2(4,size=10000)\n",
    "print(\"Expectation :\",Expectation(Sn))\n",
    "print(\"Variance :\",Variance(Sn))\n",
    "plt.hist(Sn)"
   ]
  }
 ],
 "metadata": {
  "kernelspec": {
   "display_name": "Python 3",
   "language": "python",
   "name": "python3"
  },
  "language_info": {
   "codemirror_mode": {
    "name": "ipython",
    "version": 3
   },
   "file_extension": ".py",
   "mimetype": "text/x-python",
   "name": "python",
   "nbconvert_exporter": "python",
   "pygments_lexer": "ipython3",
   "version": "3.7.3"
  }
 },
 "nbformat": 4,
 "nbformat_minor": 2
}
