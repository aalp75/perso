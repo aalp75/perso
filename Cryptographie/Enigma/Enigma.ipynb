{
 "cells": [
  {
   "cell_type": "markdown",
   "metadata": {},
   "source": [
    "# Machine Enigma M3"
   ]
  },
  {
   "cell_type": "code",
   "execution_count": 1,
   "metadata": {},
   "outputs": [],
   "source": [
    "class Enigma:\n",
    "    \n",
    "    def __init__(self):\n",
    "        \n",
    "        #Rotors\n",
    "    \n",
    "        RI = [4,10,12,5,11,6,3,16,21,25,13,19,14,22,24,7,23,20,18,15,0,8,1,17,2,9]#EKMFLGDQVZNTOWYHXUSPAIBRCJ\n",
    "        RII = [0,9,3,10,18,8,17,20,23,1,11,7,22,19,12,2,16,6,25,13,15,24,5,21,14,4]#AJDKSIRUXBLHWTMCQGZNPYFVOE\n",
    "        RIII = [1,3,5,7,9,11,2,15,17,19,23,21,25,13,24,4,8,22,6,0,10,12,20,18,16,14]#BDFHJLCPRTXVZNYEIWGAKMUSQO\n",
    "        RIV = [4,18,14,21,15,25,9,0,24,16,20,8,17,7,23,11,13,5,19,6,10,3,2,12,22,1]#ESOVPZJAYQUIRHXLNFTGKDCMWB\n",
    "        RV = [21,25,1,17,6,8,19,24,20,15,18,3,13,7,11,23,0,22,12,9,16,14,5,4,2,10]#VZBRGITYUPSDNHLXAWMJQOFECK\n",
    "        \n",
    "        self.Rotors = [RI,RII,RIII,RIV,RV]\n",
    "        \n",
    "        self.changementsRotors = [17,5,22,10,0]\n",
    "        \n",
    "        #Reflectors\n",
    "        \n",
    "        RefB = [24,17,20,7,16,18,11,3,15,23,13,6,14,10,12,8,4,1,5,25,2,22,21,9,0,19]#YRUHQSLDPXNGOKMIEBFZCWVJAT\n",
    "        RefC = [17,3,14,1,9,13,19,10,21,4,7,12,11,5,2,22,25,0,23,6,24,8,15,18,20,16]#DOBJNTKVEHMLFCWZAXGYIPSUQ\n",
    "        \n",
    "        self.Ref=[RefB,RefC]\n",
    "        \n",
    "        #Plugboard of 10 connexion\n",
    "        \n",
    "        self.Plugboard = [i for i in range(26)]\n",
    "        \n",
    "        #Initial Setup\n",
    "        \n",
    "        self.RotorSetup = [0,1,2] #Rotor Arrangements\n",
    "        self.ReflectSetup = 0 #0 for RefB and 1 for RefC\n",
    "        self.RotorInitPos = [0,0,0]\n",
    "        #self.Plugboard\n",
    "        \n",
    "        #Evolution of rotors \n",
    "        self.RotorCurrentPos = [0,0,0]\n",
    "        \n",
    "    def set_Rotors(self):#Force Deep copy\n",
    "        for i in range(3):\n",
    "            self.RotorCurrentPos[i] = self.RotorInitPos[0]\n",
    "     \n",
    "    def reflector(self,ind):\n",
    "        return self.Ref[self.ReflectSetup][ind]\n",
    "    \n",
    "    def plugboard(self,ind):\n",
    "        return self.Plugboard[ind]\n",
    "    \n",
    "    def rotor(self,number_rotor,order,ind):\n",
    "        return self.Rotors[number_rotor][(ind+self.RotorCurrentPos[order])%26]\n",
    "    \n",
    "    def rotor_inv(self,number_rotor,order,ind):\n",
    "        res = 0\n",
    "        for i in range(26):\n",
    "            if (ind == self.Rotors[number_rotor][(i+self.RotorCurrentPos[order])%26]):\n",
    "                res = i \n",
    "        return res\n",
    "    \n",
    "    def show(self):\n",
    "        print('\\033[1m' + 'Enigma Settings' + '\\033[0m')\n",
    "        print(\"Plugboard :\", self.Plugboard)\n",
    "        tmp =[0,0,0]\n",
    "        for i in range(3):\n",
    "            tmp[i] = self.RotorSetup[i]+1\n",
    "        print(\"Rotor Setup : \",tmp)\n",
    "        print(\"ReflectSetut :\",self.ReflectSetup)\n",
    "        print(\"RotorInitPos :\",self.RotorInitPos)\n",
    "    \n",
    "    def setup(self,new_Plugboard,new_RotorInitPos=['A','A','A'],new_RotorSetup=[1,2,3],new_ReflectSetup=0):\n",
    "        for co in new_Plugboard:\n",
    "            self.Plugboard[ord(co[0])-65] = ord(co[1])-65\n",
    "            self.Plugboard[ord(co[1])-65] = ord(co[0])-65\n",
    "        for i in range(3):\n",
    "            self.RotorInitPos[i] = ord(new_RotorInitPos[i])-65\n",
    "        for i in range(3):\n",
    "            self.RotorSetup[i] = new_RotorSetup[i]-1\n",
    "        self.ReflectSetup = new_ReflectSetup\n",
    "        \n",
    "        \n",
    "    def encrypt_one(self,ind):#encrypt from a number in 0,...,25\n",
    "        tmp = ind\n",
    "        tmp = self.plugboard(ind)\n",
    "        for i in range(3):\n",
    "            tmp = self.rotor(self.RotorSetup[i],i,tmp)\n",
    "        tmp = self.reflector(tmp)\n",
    "        for i in range(3):\n",
    "            tmp = self.rotor_inv(self.RotorSetup[2-i],2-i,tmp)\n",
    "        tmp = self.plugboard(tmp)\n",
    "        return tmp\n",
    "    \n",
    "    def encrypt_list(self,list_ind):#encrypt from a list of number in 0,...,25\n",
    "        res = []\n",
    "        for ind in list_ind:\n",
    "            res.append(self.encrypt_one(ind))\n",
    "            self.RotorCurrentPos[0] = (self.RotorCurrentPos[0]+1)%26\n",
    "            if (self.RotorCurrentPos[0] == self.changementsRotors[self.RotorSetup[0]]):\n",
    "                self.RotorCurrentPos[1] = (self.RotorCurrentPos[1]+1)%26\n",
    "            if (self.RotorCurrentPos[1] == self.changementsRotors[self.RotorSetup[1]]):\n",
    "                self.RotorCurrentPos[2] = (self.RotorCurrentPos[2]+1)%26\n",
    "        return res\n",
    "    \n",
    "    def encrypt_word(self,word):#crypte 1 word write in Uppercase\n",
    "        list_ind = []\n",
    "        for char in word:\n",
    "            list_ind.append(ord(char)-65)\n",
    "        tmp = self.encrypt_list(list_ind)\n",
    "        res = ''\n",
    "        for ind in tmp:\n",
    "            res = res + chr(ind+65)\n",
    "        return res\n",
    "    \n",
    "    def encrypt_sentence(self,sentence):\n",
    "        self.set_Rotors()\n",
    "        res = \"\"\n",
    "        for word in sentence.split():\n",
    "            res = res + \" \" + self.encrypt_word(word)\n",
    "        return res[1:]\n",
    "    \n",
    "    def encrypt_file(self,pathfile_clean,pathfile_encrypt):\n",
    "        with open(pathfile_clean, 'r') as myfile:\n",
    "            sentence = self.encrypt_sentence(myfile.read())\n",
    "        with open(pathfile_encrypt,'w') as myfile:\n",
    "            myfile.write(sentence)"
   ]
  },
  {
   "cell_type": "markdown",
   "metadata": {},
   "source": [
    "Create and setup our machine"
   ]
  },
  {
   "cell_type": "code",
   "execution_count": 2,
   "metadata": {
    "scrolled": true
   },
   "outputs": [
    {
     "name": "stdout",
     "output_type": "stream",
     "text": [
      "\u001b[1mEnigma Settings\u001b[0m\n",
      "Plugboard : [0, 1, 2, 3, 4, 5, 6, 7, 8, 9, 10, 11, 12, 13, 14, 15, 16, 17, 18, 19, 20, 21, 22, 23, 24, 25]\n",
      "Rotor Setup :  [1, 2, 3]\n",
      "ReflectSetut : 0\n",
      "RotorInitPos : [0, 0, 0]\n"
     ]
    }
   ],
   "source": [
    "enigma = Enigma()\n",
    "enigma.show()"
   ]
  },
  {
   "cell_type": "markdown",
   "metadata": {},
   "source": [
    "## 1st Test"
   ]
  },
  {
   "cell_type": "code",
   "execution_count": 3,
   "metadata": {},
   "outputs": [
    {
     "name": "stdout",
     "output_type": "stream",
     "text": [
      "JE SUIS EN RETARD JE SUIS DESOLER\n",
      "GA BZSX IW QRKEIF OG BARY TICUCAL\n",
      "JE SUIS EN RETARD JE SUIS DESOLER\n",
      "Succes : True\n"
     ]
    }
   ],
   "source": [
    "sentence =\"JE SUIS EN RETARD JE SUIS DESOLER\"\n",
    "print(sentence)\n",
    "res = enigma.encrypt_sentence(sentence)\n",
    "print(res)\n",
    "res_inv = enigma.encrypt_sentence(res)\n",
    "print(res_inv)\n",
    "print(\"Succes :\",sentence==res_inv)"
   ]
  },
  {
   "cell_type": "markdown",
   "metadata": {},
   "source": [
    "Setup our machine on different configurations"
   ]
  },
  {
   "cell_type": "code",
   "execution_count": 4,
   "metadata": {},
   "outputs": [
    {
     "name": "stdout",
     "output_type": "stream",
     "text": [
      "\u001b[1mEnigma Settings\u001b[0m\n",
      "Plugboard : [22, 1, 14, 3, 10, 17, 6, 23, 8, 15, 4, 11, 12, 13, 2, 9, 16, 5, 18, 19, 20, 21, 0, 7, 24, 25]\n",
      "Rotor Setup :  [5, 2, 3]\n",
      "ReflectSetut : 1\n",
      "RotorInitPos : [12, 17, 25]\n"
     ]
    }
   ],
   "source": [
    "new_plug = ['AW','HX','CO','JP','EK','FR']\n",
    "new_rotorpos = ['M','R','Z']\n",
    "new_rotsetup = [5,2,3]\n",
    "new_refsetup = 1\n",
    "enigma.setup(new_plug,new_rotorpos,new_rotsetup,new_refsetup)\n",
    "enigma.show()"
   ]
  },
  {
   "cell_type": "markdown",
   "metadata": {},
   "source": [
    "## 2nd Test"
   ]
  },
  {
   "cell_type": "code",
   "execution_count": 5,
   "metadata": {},
   "outputs": [
    {
     "name": "stdout",
     "output_type": "stream",
     "text": [
      "I REALLY MISSED TIME I SWAM EVERYDAY\n",
      "Y SXCWSP ZJRDAS GKNW C CEGS CZCEUISZ\n",
      "I REALLY MISSED TIME I SWAM EVERYDAY\n",
      "Succes : True\n"
     ]
    }
   ],
   "source": [
    "sentence =\"I REALLY MISSED TIME I SWAM EVERYDAY\"\n",
    "print(sentence)\n",
    "res = enigma.encrypt_sentence(sentence)\n",
    "print(res)\n",
    "res_inv = enigma.encrypt_sentence(res)\n",
    "print(res_inv)\n",
    "print(\"Succes :\",sentence==res_inv)"
   ]
  },
  {
   "cell_type": "markdown",
   "metadata": {},
   "source": [
    "## Main"
   ]
  },
  {
   "cell_type": "code",
   "execution_count": 6,
   "metadata": {},
   "outputs": [],
   "source": [
    "enigma.encrypt_file('message_clean.txt','message_encrypt.txt')"
   ]
  },
  {
   "cell_type": "code",
   "execution_count": null,
   "metadata": {},
   "outputs": [],
   "source": []
  }
 ],
 "metadata": {
  "kernelspec": {
   "display_name": "Python 3",
   "language": "python",
   "name": "python3"
  },
  "language_info": {
   "codemirror_mode": {
    "name": "ipython",
    "version": 3
   },
   "file_extension": ".py",
   "mimetype": "text/x-python",
   "name": "python",
   "nbconvert_exporter": "python",
   "pygments_lexer": "ipython3",
   "version": "3.7.3"
  }
 },
 "nbformat": 4,
 "nbformat_minor": 2
}
