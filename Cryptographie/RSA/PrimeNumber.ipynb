{
 "cells": [
  {
   "cell_type": "code",
   "execution_count": 11,
   "metadata": {},
   "outputs": [],
   "source": [
    "import numpy as np\n",
    "import time\n",
    "import random"
   ]
  },
  {
   "cell_type": "code",
   "execution_count": 12,
   "metadata": {},
   "outputs": [],
   "source": [
    "def PGCD(a,b):\n",
    "    if (b==0):\n",
    "        return a\n",
    "    else:\n",
    "        r=a%b\n",
    "        return PGCD(b,r)"
   ]
  },
  {
   "cell_type": "markdown",
   "metadata": {},
   "source": [
    "Deterministic Method"
   ]
  },
  {
   "cell_type": "code",
   "execution_count": 13,
   "metadata": {},
   "outputs": [],
   "source": [
    "def is_prime(n):#Naive method\n",
    "    if (n%2 == 0):\n",
    "        return False\n",
    "    for i in range(3,int((np.sqrt(float(n)))+2)):\n",
    "        #print(i)\n",
    "        if (n%i == 0):\n",
    "            return False\n",
    "    return True"
   ]
  },
  {
   "cell_type": "code",
   "execution_count": 14,
   "metadata": {},
   "outputs": [],
   "source": [
    "def is_prime_faster(n):\n",
    "    if (n<=1):\n",
    "        return False\n",
    "    if (n<=3):\n",
    "        return True\n",
    "    if (n%2 ==0 or n%3 ==0):\n",
    "        return False\n",
    "    i = 5\n",
    "    while(i*i <n):\n",
    "        if(n%i == 0 or n%(i+2)==0):\n",
    "            return False\n",
    "        i = i+6\n",
    "    return True"
   ]
  },
  {
   "cell_type": "markdown",
   "metadata": {},
   "source": [
    "Probabilistic Method"
   ]
  },
  {
   "cell_type": "code",
   "execution_count": 15,
   "metadata": {},
   "outputs": [],
   "source": [
    "# Python3 program Miller-Rabin primality test \n",
    "\n",
    "def MillerTest(d, n): \n",
    "      \n",
    "    # Pick a random number in [2..n-2] \n",
    "    # Corner cases make sure that n > 4 \n",
    "    a = 2 + random.randint(1, n - 4); \n",
    "  \n",
    "    x = pow(a, d, n)\n",
    "  \n",
    "    if (x == 1 or x == n - 1): \n",
    "        return True; \n",
    "  \n",
    "    # Keep squaring x while one  \n",
    "    # of the following doesn't  \n",
    "    # happen \n",
    "    # (i) d does not reach n-1 \n",
    "    # (ii) (x^2) % n is not 1 \n",
    "    # (iii) (x^2) % n is not n-1 \n",
    "    while (d != n - 1): \n",
    "        x = (x * x) % n\n",
    "        d *= 2\n",
    "  \n",
    "        if (x == 1): \n",
    "            return False; \n",
    "        if (x == n - 1): \n",
    "            return True; \n",
    "  \n",
    "    # Return composite \n",
    "    return False\n",
    "  \n",
    "# It returns false if n is  \n",
    "# composite and returns true if n \n",
    "# is probably prime. k is an  \n",
    "# input parameter that determines \n",
    "# accuracy level. Higher value of  \n",
    "# k indicates more accuracy. \n",
    "def is_prime_Miller( n, k): \n",
    "      \n",
    "    # Corner cases \n",
    "    if (n <= 1 or n == 4): \n",
    "        return False\n",
    "    if (n <= 3): \n",
    "        return True\n",
    "    d = n - 1\n",
    "    while (d % 2 == 0): \n",
    "        d //= 2\n",
    "  \n",
    "    # Iterate given nber of 'k' times \n",
    "    for i in range(k): \n",
    "        if (MillerTest(d, n) == False): \n",
    "            return False\n",
    "  \n",
    "    return True"
   ]
  },
  {
   "cell_type": "markdown",
   "metadata": {},
   "source": [
    "Decomposition in prime number"
   ]
  },
  {
   "cell_type": "code",
   "execution_count": 27,
   "metadata": {},
   "outputs": [],
   "source": [
    "#Iterative method\n",
    "def decomposition_prime_number(n):\n",
    "    tmp = n\n",
    "    res = []\n",
    "    if (n < 2):\n",
    "        res.append(n)\n",
    "        return res\n",
    "    for i in range(2,n+1):\n",
    "        while (n % i == 0):\n",
    "            res.append(i)\n",
    "            n /= i\n",
    "    print('%d'%tmp + ' = ' + ' * '.join('%d'%item for item in res))\n",
    "    return 0"
   ]
  },
  {
   "cell_type": "markdown",
   "metadata": {},
   "source": [
    "Pollard Rho decomposition"
   ]
  },
  {
   "cell_type": "code",
   "execution_count": 28,
   "metadata": {},
   "outputs": [],
   "source": [
    "##############################################################################\n",
    "def facteursdiv2(n):\n",
    "    \"\"\"Décomposition par division de n (entier) en 2 facteurs quelconques\"\"\"\n",
    "    pp = [2, 3, 5, 7, 11]\n",
    "    racn = int(np.sqrt(n))+1  # racine carrée entière de n\n",
    "    for p in pp:\n",
    "        if p>racn:\n",
    "            return [n, 1]  # n est premier\n",
    "        if n%p == 0:\n",
    "            return [p, n//p]  # on a trouvé une décomposition\n",
    "    p = pp[-1] + 2\n",
    "    while p <= racn:\n",
    "        if n%p == 0:\n",
    "            return [p, n//p]  # on a trouvé une décomposition\n",
    "        p += 2\n",
    "    # si on arrive ici, n est premier\n",
    "    return [n, 1]\n",
    " \n",
    "#############################################################################\n",
    "def pollardrho(n):\n",
    "    \"\"\"Factorisation d'un nombre entier décomposable (méth. rho de pollard)\"\"\"   \n",
    "    f = lambda z: z*z+1\n",
    "    x, y, d = 2, 2, 1\n",
    "    while d==1:\n",
    "        x = f(x) % n\n",
    "        y = f(f(y)) % n\n",
    "        d = PGCD(x-y, n)\n",
    "    return [d, n//d]\n",
    " \n",
    "##############################################################################\n",
    "def factpremiers(n):\n",
    "    \"\"\"liste des facteurs premiers de n, avec la fonction 'a, b = decomp(n)' \"\"\"\n",
    "    R = []  # liste des facteurs premiers trouvés\n",
    "    P = [n]  # pile de calcul\n",
    "    while P!=[]:\n",
    "        x = P.pop(-1)  # lecture et dépilage de la dernière valeur empilée\n",
    "        if is_prime_Miller(x,1):\n",
    "            R.append(x)  # on a trouvé un facteur 1er => on ajoute à la liste\n",
    "        else:\n",
    "            a, b = pollardrho(x)  # on calcule une nouvelle décomposition\n",
    "            if a==1 or b==1:\n",
    "                # echec: x n'est pas 1er mais sa decomposition ne se fait pas\n",
    "                # on essaie une décomposition par division\n",
    "                a, b = facteursdiv2(x)\n",
    "            P.append(a)  # on empile a\n",
    "            P.append(b)  # on empile b\n",
    "    R.sort()\n",
    "    print('%d'%n + ' = ' + ' * '.join('%d'%item for item in R))\n",
    "    return R"
   ]
  },
  {
   "cell_type": "code",
   "execution_count": 58,
   "metadata": {},
   "outputs": [
    {
     "name": "stdout",
     "output_type": "stream",
     "text": [
      "4951760154835678088235319297\n",
      "size : 28\n"
     ]
    }
   ],
   "source": [
    "p = pow(2,31) - 1\n",
    "q = pow(2,61) - 1\n",
    "n  = p*q\n",
    "print(n)\n",
    "print(\"size :\",len(str(n)))\n"
   ]
  },
  {
   "cell_type": "code",
   "execution_count": 40,
   "metadata": {},
   "outputs": [
    {
     "name": "stdout",
     "output_type": "stream",
     "text": [
      "97703080 = 2 * 2 * 2 * 5 * 17 * 23 * 6247\n",
      "Time elapsed: 7.479300022125244 secondes\n"
     ]
    }
   ],
   "source": [
    "start_time = time.time()\n",
    "f = decomposition_prime_number(n)\n",
    "print(\"Time elapsed: %s secondes\" % (time.time() - start_time))"
   ]
  },
  {
   "cell_type": "code",
   "execution_count": 59,
   "metadata": {},
   "outputs": [
    {
     "name": "stdout",
     "output_type": "stream",
     "text": [
      "4951760154835678088235319297 = 2147483647 * 2305843009213693951\n",
      "Time elapsed: 0.30980801582336426 secondes\n"
     ]
    }
   ],
   "source": [
    "start_time = time.time()\n",
    "f = factpremiers(n)\n",
    "print(\"Time elapsed: %s secondes\" % (time.time() - start_time))"
   ]
  },
  {
   "cell_type": "code",
   "execution_count": 42,
   "metadata": {},
   "outputs": [
    {
     "name": "stdout",
     "output_type": "stream",
     "text": [
      "179 = 179\n",
      "Time elapsed: 0.00020813941955566406 secondes\n"
     ]
    }
   ],
   "source": [
    "start_time = time.time()\n",
    "f = decomposition_prime_number(179)\n",
    "print(\"Time elapsed: %s secondes\" % (time.time() - start_time))"
   ]
  },
  {
   "cell_type": "code",
   "execution_count": 60,
   "metadata": {},
   "outputs": [
    {
     "ename": "NameError",
     "evalue": "name 'PollarRho2' is not defined",
     "output_type": "error",
     "traceback": [
      "\u001b[0;31m---------------------------------------------------------------------------\u001b[0m",
      "\u001b[0;31mNameError\u001b[0m                                 Traceback (most recent call last)",
      "\u001b[0;32m<ipython-input-60-9174ff0db349>\u001b[0m in \u001b[0;36m<module>\u001b[0;34m\u001b[0m\n\u001b[1;32m      1\u001b[0m \u001b[0mstart_time\u001b[0m \u001b[0;34m=\u001b[0m \u001b[0mtime\u001b[0m\u001b[0;34m.\u001b[0m\u001b[0mtime\u001b[0m\u001b[0;34m(\u001b[0m\u001b[0;34m)\u001b[0m\u001b[0;34m\u001b[0m\u001b[0;34m\u001b[0m\u001b[0m\n\u001b[0;32m----> 2\u001b[0;31m \u001b[0mf\u001b[0m \u001b[0;34m=\u001b[0m \u001b[0mPollarRho2\u001b[0m\u001b[0;34m(\u001b[0m\u001b[0;36m192331\u001b[0m\u001b[0;34m*\u001b[0m\u001b[0;36m179\u001b[0m\u001b[0;34m)\u001b[0m\u001b[0;34m\u001b[0m\u001b[0;34m\u001b[0m\u001b[0m\n\u001b[0m\u001b[1;32m      3\u001b[0m \u001b[0mprint\u001b[0m\u001b[0;34m(\u001b[0m\u001b[0mf\u001b[0m\u001b[0;34m)\u001b[0m\u001b[0;34m\u001b[0m\u001b[0;34m\u001b[0m\u001b[0m\n\u001b[1;32m      4\u001b[0m \u001b[0mprint\u001b[0m\u001b[0;34m(\u001b[0m\u001b[0;34m\"Time elapsed: %s secondes\"\u001b[0m \u001b[0;34m%\u001b[0m \u001b[0;34m(\u001b[0m\u001b[0mtime\u001b[0m\u001b[0;34m.\u001b[0m\u001b[0mtime\u001b[0m\u001b[0;34m(\u001b[0m\u001b[0;34m)\u001b[0m \u001b[0;34m-\u001b[0m \u001b[0mstart_time\u001b[0m\u001b[0;34m)\u001b[0m\u001b[0;34m)\u001b[0m\u001b[0;34m\u001b[0m\u001b[0;34m\u001b[0m\u001b[0m\n",
      "\u001b[0;31mNameError\u001b[0m: name 'PollarRho2' is not defined"
     ]
    }
   ],
   "source": [
    "start_time = time.time()\n",
    "f = PollarRho2(192331*179)\n",
    "print(f)\n",
    "print(\"Time elapsed: %s secondes\" % (time.time() - start_time))"
   ]
  },
  {
   "cell_type": "code",
   "execution_count": 28,
   "metadata": {},
   "outputs": [
    {
     "data": {
      "text/plain": [
       "2902139"
      ]
     },
     "execution_count": 28,
     "metadata": {},
     "output_type": "execute_result"
    }
   ],
   "source": [
    "271*10709"
   ]
  },
  {
   "cell_type": "code",
   "execution_count": 61,
   "metadata": {},
   "outputs": [],
   "source": [
    "list_prime = []\n",
    "for i in range(2,100):\n",
    "    if (is_prime(i)):\n",
    "        list_prime.append(i)"
   ]
  },
  {
   "cell_type": "code",
   "execution_count": 62,
   "metadata": {},
   "outputs": [
    {
     "name": "stdout",
     "output_type": "stream",
     "text": [
      "[3, 5, 7, 11, 13, 17, 19, 23, 29, 31, 37, 41, 43, 47, 53, 59, 61, 67, 71, 73, 79, 83, 89, 97]\n"
     ]
    }
   ],
   "source": [
    "print(list_prime)"
   ]
  },
  {
   "cell_type": "code",
   "execution_count": 63,
   "metadata": {},
   "outputs": [
    {
     "name": "stdout",
     "output_type": "stream",
     "text": [
      "2147483647\n",
      "True\n",
      "Time elapsed: 0.006700992584228516 secondes\n"
     ]
    }
   ],
   "source": [
    "test = pow(2,31) - 1\n",
    "print(test)\n",
    "start_time = time.time()\n",
    "print(is_prime(test))\n",
    "print(\"Time elapsed: %s secondes\" % (time.time() - start_time))"
   ]
  },
  {
   "cell_type": "code",
   "execution_count": 64,
   "metadata": {},
   "outputs": [
    {
     "name": "stdout",
     "output_type": "stream",
     "text": [
      "2147483647\n",
      "True\n",
      "Time elapsed: 0.0025627613067626953 secondes\n"
     ]
    }
   ],
   "source": [
    "test = pow(2,31) - 1\n",
    "print(test)\n",
    "start_time = time.time()\n",
    "print(is_prime_faster(test))\n",
    "print(\"Time elapsed: %s secondes\" % (time.time() - start_time))"
   ]
  },
  {
   "cell_type": "code",
   "execution_count": 65,
   "metadata": {},
   "outputs": [
    {
     "name": "stdout",
     "output_type": "stream",
     "text": [
      "True\n",
      "Time elapsed: 0.010551214218139648 secondes\n"
     ]
    }
   ],
   "source": [
    "start_time = time.time()\n",
    "print(is_prime_Miller(test,1000))\n",
    "print(\"Time elapsed: %s secondes\" % (time.time() - start_time))"
   ]
  },
  {
   "cell_type": "code",
   "execution_count": 66,
   "metadata": {},
   "outputs": [
    {
     "data": {
      "text/plain": [
       "4"
      ]
     },
     "execution_count": 66,
     "metadata": {},
     "output_type": "execute_result"
    }
   ],
   "source": [
    "abs(-4)"
   ]
  },
  {
   "cell_type": "code",
   "execution_count": 67,
   "metadata": {},
   "outputs": [
    {
     "name": "stdout",
     "output_type": "stream",
     "text": [
      "14\n"
     ]
    },
    {
     "ename": "NameError",
     "evalue": "name 'pollards_rho' is not defined",
     "output_type": "error",
     "traceback": [
      "\u001b[0;31m---------------------------------------------------------------------------\u001b[0m",
      "\u001b[0;31mNameError\u001b[0m                                 Traceback (most recent call last)",
      "\u001b[0;32m<ipython-input-67-232d77b1f871>\u001b[0m in \u001b[0;36m<module>\u001b[0;34m\u001b[0m\n\u001b[1;32m      2\u001b[0m \u001b[0;32mwhile\u001b[0m \u001b[0;34m(\u001b[0m\u001b[0mn\u001b[0m \u001b[0;34m!=\u001b[0m \u001b[0;32mNone\u001b[0m\u001b[0;34m)\u001b[0m\u001b[0;34m:\u001b[0m\u001b[0;34m\u001b[0m\u001b[0;34m\u001b[0m\u001b[0m\n\u001b[1;32m      3\u001b[0m     \u001b[0mprint\u001b[0m\u001b[0;34m(\u001b[0m\u001b[0mn\u001b[0m\u001b[0;34m)\u001b[0m\u001b[0;34m\u001b[0m\u001b[0;34m\u001b[0m\u001b[0m\n\u001b[0;32m----> 4\u001b[0;31m     \u001b[0mp\u001b[0m \u001b[0;34m=\u001b[0m \u001b[0mpollards_rho\u001b[0m\u001b[0;34m(\u001b[0m\u001b[0mn\u001b[0m\u001b[0;34m)\u001b[0m\u001b[0;34m\u001b[0m\u001b[0;34m\u001b[0m\u001b[0m\n\u001b[0m\u001b[1;32m      5\u001b[0m     \u001b[0mn\u001b[0m \u001b[0;34m=\u001b[0m \u001b[0mn\u001b[0m\u001b[0;34m/\u001b[0m\u001b[0mp\u001b[0m\u001b[0;34m\u001b[0m\u001b[0;34m\u001b[0m\u001b[0m\n",
      "\u001b[0;31mNameError\u001b[0m: name 'pollards_rho' is not defined"
     ]
    }
   ],
   "source": [
    "n = 14\n",
    "while (n != None):\n",
    "    print(n)\n",
    "    p = pollards_rho(n)\n",
    "    n = n/p"
   ]
  },
  {
   "cell_type": "code",
   "execution_count": 135,
   "metadata": {},
   "outputs": [
    {
     "name": "stdout",
     "output_type": "stream",
     "text": [
      "7\n",
      "2\n",
      "None\n"
     ]
    }
   ],
   "source": [
    "n = 14\n",
    "tmp = n\n",
    "res = []\n",
    "if (n < 2):\n",
    "    res.append(n)\n",
    "    print(res)\n",
    "p = pollards_rho(n)\n",
    "print(p)\n",
    "res.append(p)\n",
    "n = n//p\n",
    "print(n)\n",
    "res.append(n)\n",
    "a = pollards_rho(n)\n",
    "print(a)"
   ]
  },
  {
   "cell_type": "code",
   "execution_count": 171,
   "metadata": {},
   "outputs": [
    {
     "name": "stdout",
     "output_type": "stream",
     "text": [
      "8\n"
     ]
    }
   ],
   "source": [
    "n = 152\n",
    "tmp = n\n",
    "res = []\n",
    "p = pollards_rho(n)\n",
    "print(p)"
   ]
  },
  {
   "cell_type": "code",
   "execution_count": 172,
   "metadata": {},
   "outputs": [
    {
     "name": "stdout",
     "output_type": "stream",
     "text": [
      "19\n"
     ]
    }
   ],
   "source": [
    "res.append(p)\n",
    "n = n//p\n",
    "print(n)"
   ]
  },
  {
   "cell_type": "code",
   "execution_count": 173,
   "metadata": {},
   "outputs": [],
   "source": [
    "res.append(n)"
   ]
  },
  {
   "cell_type": "code",
   "execution_count": 68,
   "metadata": {},
   "outputs": [],
   "source": [
    "##############################################################################\n",
    "def facteursdiv2(n):\n",
    "    \"\"\"Décomposition par division de n (entier) en 2 facteurs quelconques\"\"\"\n",
    "    pp = [2, 3, 5, 7, 11]\n",
    "    racn = int(np.sqrt(n))+1  # racine carrée entière de n\n",
    "    for p in pp:\n",
    "        if p>racn:\n",
    "            return [n, 1]  # n est premier\n",
    "        if n%p == 0:\n",
    "            return [p, n//p]  # on a trouvé une décomposition\n",
    "    p = pp[-1] + 2\n",
    "    while p <= racn:\n",
    "        if n%p == 0:\n",
    "            return [p, n//p]  # on a trouvé une décomposition\n",
    "        p += 2\n",
    "    # si on arrive ici, n est premier\n",
    "    return [n, 1]\n",
    " \n",
    "#############################################################################\n",
    "def pollardrho(n):\n",
    "    \"\"\"Factorisation d'un nombre entier décomposable (méth. rho de pollard)\"\"\"   \n",
    "    f = lambda z: z*z+1\n",
    "    x, y, d = 2, 2, 1\n",
    "    while d==1:\n",
    "        x = f(x) % n\n",
    "        y = f(f(y)) % n\n",
    "        d = PGCD(x-y, n)\n",
    "    return [d, n//d]\n",
    " \n",
    "##############################################################################\n",
    "def factpremiers(n):\n",
    "    \"\"\"liste des facteurs premiers de n, avec la fonction 'a, b = decomp(n)' \"\"\"\n",
    "    R = []  # liste des facteurs premiers trouvés\n",
    "    P = [n]  # pile de calcul\n",
    "    while P!=[]:\n",
    "        x = P.pop(-1)  # lecture et dépilage de la dernière valeur empilée\n",
    "        if is_prime_Miller(x,100):\n",
    "            R.append(x)  # on a trouvé un facteur 1er => on ajoute à la liste\n",
    "        else:\n",
    "            a, b = pollardrho(x)  # on calcule une nouvelle décomposition\n",
    "            if a==1 or b==1:\n",
    "                # echec: x n'est pas 1er mais sa decomposition ne se fait pas\n",
    "                # on essaie une décomposition par division\n",
    "                a, b = facteursdiv2(x)\n",
    "            P.append(a)  # on empile a\n",
    "            P.append(b)  # on empile b\n",
    "    R.sort()\n",
    "    print('%d'%n + ' = ' + ' * '.join('%d'%item for item in R))\n",
    "    return R"
   ]
  },
  {
   "cell_type": "code",
   "execution_count": 69,
   "metadata": {},
   "outputs": [
    {
     "name": "stdout",
     "output_type": "stream",
     "text": [
      "32\n",
      "20\n",
      "640 = 2 * 2 * 2 * 2 * 2 * 2 * 2 * 5\n",
      "Time elapsed: 0.0004436969757080078 secondes\n"
     ]
    }
   ],
   "source": [
    "p = 32\n",
    "q = 20\n",
    "print(p)\n",
    "print(q)\n",
    "start_time = time.time()\n",
    "D = factpremiers(p*q)\n",
    "print(\"Time elapsed: %s secondes\" % (time.time() - start_time))"
   ]
  },
  {
   "cell_type": "code",
   "execution_count": 70,
   "metadata": {},
   "outputs": [
    {
     "name": "stdout",
     "output_type": "stream",
     "text": [
      "3131\n"
     ]
    }
   ],
   "source": [
    "print(3131)"
   ]
  },
  {
   "cell_type": "code",
   "execution_count": 71,
   "metadata": {},
   "outputs": [
    {
     "name": "stdout",
     "output_type": "stream",
     "text": [
      "[2, 5]\n"
     ]
    }
   ],
   "source": [
    "print(facteursdiv2(10))"
   ]
  },
  {
   "cell_type": "code",
   "execution_count": 184,
   "metadata": {},
   "outputs": [
    {
     "data": {
      "text/plain": [
       "2"
      ]
     },
     "execution_count": 184,
     "metadata": {},
     "output_type": "execute_result"
    }
   ],
   "source": []
  },
  {
   "cell_type": "code",
   "execution_count": 185,
   "metadata": {},
   "outputs": [
    {
     "data": {
      "text/plain": [
       "2"
      ]
     },
     "execution_count": 185,
     "metadata": {},
     "output_type": "execute_result"
    }
   ],
   "source": [
    "int(np.sqrt(5))"
   ]
  },
  {
   "cell_type": "code",
   "execution_count": null,
   "metadata": {},
   "outputs": [],
   "source": []
  }
 ],
 "metadata": {
  "kernelspec": {
   "display_name": "Python 3",
   "language": "python",
   "name": "python3"
  },
  "language_info": {
   "codemirror_mode": {
    "name": "ipython",
    "version": 3
   },
   "file_extension": ".py",
   "mimetype": "text/x-python",
   "name": "python",
   "nbconvert_exporter": "python",
   "pygments_lexer": "ipython3",
   "version": "3.7.3"
  }
 },
 "nbformat": 4,
 "nbformat_minor": 2
}
