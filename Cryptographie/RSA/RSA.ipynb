{
 "cells": [
  {
   "cell_type": "code",
   "execution_count": 1,
   "metadata": {},
   "outputs": [],
   "source": [
    "import json\n",
    "from PrimeNumber import *"
   ]
  },
  {
   "cell_type": "code",
   "execution_count": 2,
   "metadata": {},
   "outputs": [
    {
     "name": "stdout",
     "output_type": "stream",
     "text": [
      "True\n"
     ]
    }
   ],
   "source": [
    "print(is_prime(41))"
   ]
  },
  {
   "cell_type": "markdown",
   "metadata": {},
   "source": [
    "# Utility Functions"
   ]
  },
  {
   "cell_type": "code",
   "execution_count": 3,
   "metadata": {},
   "outputs": [],
   "source": [
    "def complete_with_0(list_input,size):\n",
    "    res = []\n",
    "    for elmt in list_input:\n",
    "        tmp = elmt\n",
    "        for i in range(len(tmp),size):\n",
    "            tmp = '0' + tmp\n",
    "        res.append(tmp)\n",
    "    return res\n",
    "\n",
    "def bloc_s1_to_s2(lists1,s1,s2):#Size 1 to size 2\n",
    "    new_list = []\n",
    "    index = 0\n",
    "    tmp = ''\n",
    "    for elmt in reversed(lists1):\n",
    "        for i in range(s1):\n",
    "            tmp = elmt[s1-1-i] + tmp\n",
    "            index +=1\n",
    "            if (len(tmp)==s2):\n",
    "                new_list.insert(0,tmp)\n",
    "                index=0\n",
    "                tmp=''\n",
    "    if (len(tmp) > 0 and len(tmp)<s2):\n",
    "        cond = False\n",
    "        for i in range(len(tmp)):\n",
    "            if tmp[i] != '0':\n",
    "                cond = True\n",
    "                break\n",
    "        if cond :\n",
    "            for i in range(len(tmp),s2):\n",
    "                tmp = '0' + tmp\n",
    "            new_list.insert(0,tmp)\n",
    "    return new_list\n",
    "\n",
    "def listToString(s):  \n",
    "    \n",
    "    # initialize an empty string \n",
    "    str1 = \"\"  \n",
    "    \n",
    "    # traverse in the string   \n",
    "    for ele in s:  \n",
    "        str1 += ele   \n",
    "    \n",
    "    # return string   \n",
    "    return str1  "
   ]
  },
  {
   "cell_type": "markdown",
   "metadata": {},
   "source": [
    "# Arithmetic Functions"
   ]
  },
  {
   "cell_type": "code",
   "execution_count": 4,
   "metadata": {},
   "outputs": [],
   "source": [
    "def Extended_Euclidean(a,b):#Suppose a>b\n",
    "    r, u, v, r2, u2, v2 = a, 1, 0, b, 0,1\n",
    "    r = a*u + b*v\n",
    "    r2 = a*u2 + b*v2\n",
    "    while (r2 != 0):\n",
    "        q = r//r2\n",
    "        r, u, v, r2, u2, v2 = r2, u2, v2, r - q *r2, u - q*u2, v - q*v2\n",
    "        r = a*u + b*v\n",
    "        r2 = a*u2 + b*v2\n",
    "    if (v<0):\n",
    "        v = v + a \n",
    "        u = -u - 1\n",
    "    return(r,u,v)\n",
    "\n",
    "def find_key(p,q):\n",
    "    keys = []\n",
    "    phi = (p-1)*(q-1)\n",
    "    for i in range(max(p,q)+1,phi):\n",
    "        if (PGCD(i,phi)==1):\n",
    "            return i\n",
    "    return 0\n",
    "    "
   ]
  },
  {
   "cell_type": "markdown",
   "metadata": {},
   "source": [
    "Test Extended Euclidean"
   ]
  },
  {
   "cell_type": "code",
   "execution_count": 5,
   "metadata": {},
   "outputs": [
    {
     "name": "stdout",
     "output_type": "stream",
     "text": [
      "1 = -1.20 + 7.3\n"
     ]
    }
   ],
   "source": [
    "a,b = 20,3\n",
    "r,u,v = Extended_Euclidean(a,b)\n",
    "print('%d = %d.%d + %d.%d' %(r,u,a,v,b))"
   ]
  },
  {
   "cell_type": "markdown",
   "metadata": {},
   "source": [
    "Test find e for RSA"
   ]
  },
  {
   "cell_type": "code",
   "execution_count": 6,
   "metadata": {},
   "outputs": [
    {
     "name": "stdout",
     "output_type": "stream",
     "text": [
      "101\n"
     ]
    }
   ],
   "source": [
    "p = 53\n",
    "q = 97\n",
    "print(find_key(p,q))"
   ]
  },
  {
   "cell_type": "markdown",
   "metadata": {},
   "source": [
    "# RSA"
   ]
  },
  {
   "cell_type": "code",
   "execution_count": 7,
   "metadata": {},
   "outputs": [],
   "source": [
    "class RSA():\n",
    "    \n",
    "    def __init__(self,p,q):# e primal with n\n",
    "        cond = True\n",
    "        if (is_prime_Miller(p,1000) == False):\n",
    "            print('\\033[1m' + 'ERROR \\n' + '\\033[0m' + '%d is not prime number'%p)\n",
    "            cond = False\n",
    "        if (is_prime_Miller(q,1000) == False):\n",
    "            print('\\033[1m' + 'ERROR \\n' + '\\033[0m' + '%d is not prime number'%q)\n",
    "            cond = False\n",
    "        self.p = p\n",
    "        self.q = q\n",
    "        self.n = p*q\n",
    "        self.phi = (p-1)*(q-1)\n",
    "        self.e = find_key(p,q)\n",
    "        _,_,self.d = Extended_Euclidean(self.phi,self.e)\n",
    "        self.bloc = 4\n",
    "        if cond:\n",
    "            print(\"RSA system created with succes\")\n",
    "        \n",
    "    def public_key(self):\n",
    "         print('\\033[1m' + 'Public Key :' + '\\033[0m' +  '\\n(n,e) = (%d,%d)'%(self.n,self.e))\n",
    "        \n",
    "    def private_key(self):\n",
    "        print('\\033[1m' + 'Private Key :' + '\\033[0m' +  '\\n(n,d) = (%d,%d)'%(self.n,self.d))\n",
    "        \n",
    "    def encrypt(self,M):\n",
    "        return pow(M,self.e,self.n)\n",
    "    \n",
    "    def decrypt(self,C):\n",
    "        return pow(C,self.d,self.n)\n",
    "    \n",
    "    def encrypt_list(self,l):#l a list\n",
    "        res = []\n",
    "        for elmt in l:\n",
    "            res.append(self.encrypt(elmt))\n",
    "        return res\n",
    "    \n",
    "    def decrypt_list(self,l):#l a list\n",
    "        res = []\n",
    "        for elmt in l:\n",
    "            res.append(self.decrypt(elmt))\n",
    "        return res\n",
    "    \n",
    "    def encrypt_text(self,sentence):\n",
    "        list_tmp = []\n",
    "        \n",
    "        #Get the list in ASCII with each element of length 3, ex: '072'\n",
    "        for char in sentence:\n",
    "            list_tmp.append(str(ord(char)))\n",
    "        list_tmp = complete_with_0(list_tmp,3)\n",
    "        \n",
    "        #Transform in size bloc, ex bloc=4\n",
    "        list_tmp = bloc_s1_to_s2(list_tmp,3,self.bloc)\n",
    "        \n",
    "        #Transform in int for apply encrypt formulas\n",
    "        list_res = [int(st) for st in list_tmp] \n",
    "        \n",
    "        #Apply encrypt\n",
    "        list_res = self.encrypt_list(list_res)\n",
    "        \n",
    "        #Return the result in string\n",
    "        res = [str(i) for i in list_res]\n",
    "        return res\n",
    "    \n",
    "    def decrypt_text(self,sentence):\n",
    "        \n",
    "        #Transform in int for apply decrypt formulas\n",
    "        tmp = [int(i) for i in sentence]\n",
    "        #Apply decrypt\n",
    "        tmp = self.decrypt_list(tmp)\n",
    "\n",
    "        #Get back in string complete with 0\n",
    "        tmp2 = complete_with_0([str(i) for i in tmp],self.bloc)\n",
    "\n",
    "        #Get back in size for ASCII\n",
    "        tmp = bloc_s1_to_s2(tmp2,self.bloc,3)\n",
    "        \n",
    "        #Find back the sentence\n",
    "        res = \"\"\n",
    "        for ind in tmp:\n",
    "            res = res + chr(int(ind))\n",
    "        return res\n",
    "    \n",
    "    def encrypt_file(self,pathfile):\n",
    "        with open(pathfile,'r') as myfile:\n",
    "            contents = myfile.read()\n",
    "        res = self.encrypt_text(contents)\n",
    "        with open('message_encrypt.txt','w') as myfile:\n",
    "            json.dump(res,myfile)\n",
    "        return None\n",
    "    \n",
    "    def decrypt_file(self,pathfile):\n",
    "        with open(pathfile,'r') as myfile:\n",
    "            contents = json.load(myfile)\n",
    "        res = self.decrypt_text(contents)\n",
    "        with open('message_decrypt.txt','w') as myfile:\n",
    "            myfile.write(res)\n",
    "        "
   ]
  },
  {
   "cell_type": "code",
   "execution_count": 16,
   "metadata": {},
   "outputs": [
    {
     "name": "stdout",
     "output_type": "stream",
     "text": [
      "Size of p: 183\n",
      "Size of q: 157\n",
      "RSA system created with succes\n",
      "\u001b[1mPublic Key :\u001b[0m\n",
      "(n,e) = (3646154850295011369707131011438711095400799139943170490872585628683549034362552065955809589514611470241298944167703929337528884908857116141935206466329731087514964112054543019336536216107629523597606330154669196064144182472739556974502462402438903115845725630946428943768540714098264727068026730424033578827886916761701429264950573899186177,531137992816767098689588206552468627329593117727031923199444138200403559860852242739162502265229285668889329486246501015346579337652707239409519978766587351943831270835393219031728131)\n",
      "\u001b[1mPrivate Key :\u001b[0m\n",
      "(n,d) = (3646154850295011369707131011438711095400799139943170490872585628683549034362552065955809589514611470241298944167703929337528884908857116141935206466329731087514964112054543019336536216107629523597606330154669196064144182472739556974502462402438903115845725630946428943768540714098264727068026730424033578827886916761701429264950573899186177,158922059681823943838269434442604634479409919515200009555217972617987842582879681845643997331114221444133143449969012407228931092431576749394729099434104439751255764200481878532259196284614505879373075340459563254735690443422514954438366767437273170147767730501824214466244441953833743064752967934699013011004548415085186514518144589733371)\n"
     ]
    }
   ],
   "source": [
    "p = pow(2,607) - 1\n",
    "q = pow(2,521) - 1\n",
    "#p = 379\n",
    "#q = 467\n",
    "print('Size of p: %d' %len(str(p)))\n",
    "print('Size of q: %d' %len(str(q)))\n",
    "rsa = RSA(p,q)\n",
    "rsa.public_key()\n",
    "rsa.private_key()"
   ]
  },
  {
   "cell_type": "code",
   "execution_count": 10,
   "metadata": {},
   "outputs": [
    {
     "name": "stdout",
     "output_type": "stream",
     "text": [
      "Help !\n"
     ]
    }
   ],
   "source": [
    "sentence = 'Help !'\n",
    "print(sentence)"
   ]
  },
  {
   "cell_type": "code",
   "execution_count": 11,
   "metadata": {
    "scrolled": true
   },
   "outputs": [
    {
     "name": "stdout",
     "output_type": "stream",
     "text": [
      "res :  ['57663', '19946', '96710', '11273', '128600']\n"
     ]
    }
   ],
   "source": [
    "res = rsa.encrypt_text(sentence)\n",
    "print(\"res : \",res)"
   ]
  },
  {
   "cell_type": "code",
   "execution_count": 12,
   "metadata": {
    "scrolled": true
   },
   "outputs": [
    {
     "name": "stdout",
     "output_type": "stream",
     "text": [
      "Help !\n"
     ]
    }
   ],
   "source": [
    "res_inv = rsa.decrypt_text(res)\n",
    "print(res_inv)"
   ]
  },
  {
   "cell_type": "code",
   "execution_count": 13,
   "metadata": {},
   "outputs": [
    {
     "name": "stdout",
     "output_type": "stream",
     "text": [
      "Succes:  True\n"
     ]
    }
   ],
   "source": [
    "print('Succes: ',sentence == res_inv)"
   ]
  },
  {
   "cell_type": "code",
   "execution_count": 17,
   "metadata": {},
   "outputs": [],
   "source": [
    "rsa.encrypt_file('message_clean.txt')"
   ]
  },
  {
   "cell_type": "code",
   "execution_count": 18,
   "metadata": {},
   "outputs": [],
   "source": [
    "rsa.decrypt_file('message_encrypt.txt')"
   ]
  },
  {
   "cell_type": "code",
   "execution_count": null,
   "metadata": {},
   "outputs": [],
   "source": []
  },
  {
   "cell_type": "code",
   "execution_count": null,
   "metadata": {},
   "outputs": [],
   "source": []
  },
  {
   "cell_type": "code",
   "execution_count": null,
   "metadata": {},
   "outputs": [],
   "source": []
  }
 ],
 "metadata": {
  "kernelspec": {
   "display_name": "Python 3",
   "language": "python",
   "name": "python3"
  },
  "language_info": {
   "codemirror_mode": {
    "name": "ipython",
    "version": 3
   },
   "file_extension": ".py",
   "mimetype": "text/x-python",
   "name": "python",
   "nbconvert_exporter": "python",
   "pygments_lexer": "ipython3",
   "version": "3.7.3"
  }
 },
 "nbformat": 4,
 "nbformat_minor": 2
}
