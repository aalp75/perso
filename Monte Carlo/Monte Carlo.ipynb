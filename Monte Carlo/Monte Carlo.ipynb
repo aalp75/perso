{
 "cells": [
  {
   "cell_type": "code",
   "execution_count": 213,
   "metadata": {},
   "outputs": [],
   "source": [
    "import sys\n",
    "import math\n",
    "sys.path.insert(0,'../RandomGenerator/')\n",
    "sys.path.insert(0,'../Cryptographie/RSA/')\n",
    "from PrimeNumber import *\n",
    "from RNG_UsualLaw_Continue import *\n",
    "from scipy.stats import norm\n",
    "from scipy.special import ndtri\n",
    "import matplotlib.pyplot as plt\n",
    "import numpy as np\n",
    "import scipy.integrate as integrate\n",
    "import time"
   ]
  },
  {
   "cell_type": "markdown",
   "metadata": {},
   "source": [
    "Don't give importance to the computentional time because we mostly study convergence in this Jupyter Book"
   ]
  },
  {
   "cell_type": "markdown",
   "metadata": {},
   "source": [
    "## Monte Carlo for Integral"
   ]
  },
  {
   "cell_type": "markdown",
   "metadata": {},
   "source": [
    "Monte Carlo method to compute\n",
    "$\\begin{equation*}\n",
    "\\int_a^b f(x) dx\n",
    "\\end{equation*}$\n"
   ]
  },
  {
   "cell_type": "markdown",
   "metadata": {},
   "source": [
    "Function to evaluate :"
   ]
  },
  {
   "cell_type": "code",
   "execution_count": 572,
   "metadata": {},
   "outputs": [],
   "source": [
    "def f1(x):\n",
    "    return(1/(1+x))\n",
    "\n",
    "def f2(x):\n",
    "    return(x*x + 2*x -3)"
   ]
  },
  {
   "cell_type": "code",
   "execution_count": 627,
   "metadata": {},
   "outputs": [],
   "source": [
    "def MC(f,a,b,N=1000,alpha=0.05,conv=False):\n",
    "    exact_result = integrate.quad(f,a,b)[0]\n",
    "    res = []\n",
    "    conv = []\n",
    "    sample = Uniform_Continue(a,b,N)\n",
    "    for i in range(N):\n",
    "        res.append((b-a)*f(sample[i]))\n",
    "        conv.append(abs(exact_result-np.mean(res)))\n",
    "    sigma = np.std(res)\n",
    "    sigma2 = np.var(res)\n",
    "    quantil = ndtri(1-alpha/2)\n",
    "    res = np.mean(res)\n",
    "    print(\"Standard deviation :\", sigma)\n",
    "    print(\"Variance :\",sigma2)\n",
    "    print(\"Confidence interval of\", 1-alpha,\"% : [\", res - quantil*sigma/math.sqrt(N), \" : \",res + quantil*sigma/math.sqrt(N),\"]\")\n",
    "    return res,conv"
   ]
  },
  {
   "cell_type": "code",
   "execution_count": 574,
   "metadata": {},
   "outputs": [
    {
     "name": "stdout",
     "output_type": "stream",
     "text": [
      "Standard deviation : 0.1396091760778393\n",
      "Variance : 0.019490722045133132\n",
      "Confidence interval of 0.95 % : [ 0.6889418782118308  :  0.6989333950217367 ]\n",
      "0.6939376366167838\n",
      "Exact result : (0.6931471805599454, 7.695479593116622e-15)\n"
     ]
    }
   ],
   "source": [
    "res,_ = MC(f1,0,1,N=3000)\n",
    "print(res)\n",
    "exact_result = integrate.quad(f1,0,1)\n",
    "print(\"Exact result :\",exact_result)"
   ]
  },
  {
   "cell_type": "markdown",
   "metadata": {},
   "source": [
    "# Variance Reduction"
   ]
  },
  {
   "cell_type": "markdown",
   "metadata": {},
   "source": [
    "### Antithetic variable"
   ]
  },
  {
   "cell_type": "code",
   "execution_count": 628,
   "metadata": {},
   "outputs": [],
   "source": [
    "def MC_anthitetic(f,a,b,N=1000,alpha=0.05):\n",
    "    exact_result = integrate.quad(f,a,b)[0]\n",
    "    sample = Uniform_Continue(a,b,N)\n",
    "    res = []\n",
    "    conv = []\n",
    "    for i in range(N):\n",
    "        val = (b-a)* (f(sample[i]) + f(b-sample[i]+a))/2\n",
    "        res.append(val)\n",
    "        conv.append(abs(exact_result-np.mean(res)))\n",
    "    sigma = np.std(res)\n",
    "    sigma2 = np.var(res)\n",
    "    res = np.mean(res)\n",
    "    print(\"Standard deviation :\", sigma)\n",
    "    print(\"Variance :\",sigma2)\n",
    "    quantil = ndtri(1-alpha/2)\n",
    "    print(\"Confidence interval of\", 1-alpha,\"% : [\", res - quantil*sigma/math.sqrt(N), \" : \",res + quantil*sigma/math.sqrt(N),\"]\")\n",
    "    return res,conv"
   ]
  },
  {
   "cell_type": "code",
   "execution_count": 582,
   "metadata": {},
   "outputs": [
    {
     "name": "stdout",
     "output_type": "stream",
     "text": [
      "\u001b[1mMonte Carlo Standard : \u001b[0m\n",
      "Standard deviation : 0.13970730048167693\n",
      "Variance : 0.019518129807877566\n",
      "Confidence interval of 0.95 % : [ 0.6891920706533816  :  0.6946684961998097 ]\n",
      "Result : 0.6919302834265957 in 3.184569835662842 secondes\n",
      "Error :  0.0012168971333497147 \n",
      " \n",
      "\n",
      "\u001b[1mMonte Carlo Antithetic Variates : \u001b[0m\n",
      "Standard deviation : 0.024433043923870516\n",
      "Variance : 0.000596973635385786\n",
      "Confidence interval of 0.95 % : [ 0.6926643903260423  :  0.6936221480485119 ]\n",
      "Result : 0.6931432691872771 in 2.8620569705963135 secondes\n",
      "Error :  3.911372668308211e-06\n"
     ]
    }
   ],
   "source": [
    "N=10000\n",
    "print('\\033[1m' + \"Monte Carlo Standard : \" + '\\033[0m')\n",
    "start_time = time.time()\n",
    "res1,_ = MC(f1,0,1,N)\n",
    "print(\"Result :\",res1,\"in\",time.time() - start_time,\"secondes\")\n",
    "print(\"Error : \",abs(integrate.quad(f1,0,1)[0]-res1),\"\\n \\n\")\n",
    "print('\\033[1m' + \"Monte Carlo Antithetic Variates : \" + '\\033[0m')\n",
    "start_time = time.time()\n",
    "res2,_ = MC_anthitetic(f1,0,1,N)\n",
    "print(\"Result :\",res2,\"in\",time.time() - start_time,\"secondes\")\n",
    "print(\"Error : \",abs(integrate.quad(f1,0,1)[0]-res2))"
   ]
  },
  {
   "cell_type": "code",
   "execution_count": 583,
   "metadata": {
    "scrolled": true
   },
   "outputs": [
    {
     "name": "stdout",
     "output_type": "stream",
     "text": [
      "\u001b[1mMonte Carlo Standard : \u001b[0m\n",
      "Standard deviation : 11.637511722122593\n",
      "Variance : 135.43167908254074\n",
      "Confidence interval of 0.95 % : [ 42.34813954473475  :  42.80432162163521 ]\n",
      "Result : 42.57623058318498 in 2.2295432090759277 secondes\n",
      "Error :  0.09043608348168419 \n",
      " \n",
      "\n",
      "\u001b[1mMonte Carlo Antithetic Variates : \u001b[0m\n",
      "Standard deviation : 0.5978678228634965\n",
      "Variance : 0.3574459336155373\n",
      "Confidence interval of 0.95 % : [ 42.65770837917706  :  42.68114436718361 ]\n",
      "Result : 42.669426373180336 in 3.4072041511535645 secondes\n",
      "Error :  0.0027597065136717447\n"
     ]
    }
   ],
   "source": [
    "N=10000\n",
    "print('\\033[1m' + \"Monte Carlo Standard : \" + '\\033[0m')\n",
    "start_time = time.time()\n",
    "res1,_ = MC(f2,3,5,N)\n",
    "print(\"Result :\",res1,\"in\",time.time() - start_time,\"secondes\")\n",
    "print(\"Error : \",abs(integrate.quad(f2,3,5)[0]-res1),\"\\n \\n\")\n",
    "print('\\033[1m' + \"Monte Carlo Antithetic Variates : \" + '\\033[0m')\n",
    "start_time = time.time()\n",
    "res2,_ = MC_anthitetic(f2,3,5,N)\n",
    "print(\"Result :\",res2,\"in\",time.time() - start_time,\"secondes\")\n",
    "print(\"Error : \",abs(integrate.quad(f2,3,5)[0]-res2))"
   ]
  },
  {
   "cell_type": "markdown",
   "metadata": {},
   "source": [
    "### Control Variate"
   ]
  },
  {
   "cell_type": "code",
   "execution_count": 629,
   "metadata": {},
   "outputs": [],
   "source": [
    "def MC_control_variate(f,a,b,N=1000,alpha=0.05):\n",
    "    exact_result = integrate.quad(f,a,b)[0]\n",
    "    sample = Uniform_Continue(a,b,N)\n",
    "    res = []\n",
    "    conv = []\n",
    "    m = []\n",
    "    t = []\n",
    "    for i in range(N):\n",
    "        m.append(f(sample[i]))\n",
    "        t.append(1+sample[i])\n",
    "    c = - np.cov(m,t)[0,1]/np.var(t)\n",
    "    m_star = []\n",
    "    tau = (b+a+2)/2\n",
    "    for i in range(N):\n",
    "        m_star.append((b-a)* (m[i] + c*(t[i] - tau)))\n",
    "        conv.append(abs(exact_result-np.mean(m_star)))\n",
    "    print(\"mean t :\",np.mean(t))\n",
    "    sigma = np.std(m_star)\n",
    "    sigma2 = np.var(m_star)\n",
    "    res = np.mean(m_star)\n",
    "    print(\"Standard deviation :\", sigma)\n",
    "    print(\"Variance :\",sigma2)\n",
    "    quantil = ndtri(1-alpha/2)\n",
    "    print(\"Confidence interval of\", 1-alpha,\"% : [\", res - quantil*sigma/math.sqrt(N), \" : \",res + quantil*sigma/math.sqrt(N),\"]\")\n",
    "    return res,conv"
   ]
  },
  {
   "cell_type": "code",
   "execution_count": 586,
   "metadata": {},
   "outputs": [
    {
     "name": "stdout",
     "output_type": "stream",
     "text": [
      "\u001b[1mMonte Carlo Standard : \u001b[0m\n",
      "Standard deviation : 0.13899508415341777\n",
      "Variance : 0.019319633418815686\n",
      "Confidence interval of 0.95 % : [ 0.6886682494626288  :  0.694116756642005 ]\n",
      "Result : 0.6913925030523169 in 2.0933918952941895 secondes\n",
      "Error :  0.001754677507628477 \n",
      " \n",
      "\n",
      "\u001b[1mMonte Carlo Antithetic Variates : \u001b[0m\n",
      "mean t : 1.505582749858452\n",
      "Standard deviation : 0.024543196423362043\n",
      "Variance : 0.0006023684906757313\n",
      "Confidence interval of 0.95 % : [ 0.692335696237258  :  0.6932977718583637 ]\n",
      "Result : 0.6928167340478109 in 4.088201999664307 secondes\n",
      "Error :  0.00033044651213454124\n"
     ]
    }
   ],
   "source": [
    "N=10000\n",
    "print('\\033[1m' + \"Monte Carlo Standard : \" + '\\033[0m')\n",
    "start_time = time.time()\n",
    "res1,_ = MC(f1,0,1,N)\n",
    "print(\"Result :\",res1,\"in\",time.time() - start_time,\"secondes\")\n",
    "print(\"Error : \",abs(integrate.quad(f1,0,1)[0]-res1),\"\\n \\n\")\n",
    "print('\\033[1m' + \"Monte Carlo Antithetic Variates : \" + '\\033[0m')\n",
    "start_time = time.time()\n",
    "res2,_ = MC_control_variate(f1,0,1,N)\n",
    "print(\"Result :\",res2,\"in\",time.time() - start_time,\"secondes\")\n",
    "print(\"Error : \",abs(integrate.quad(f1,0,1)[0]-res2))"
   ]
  },
  {
   "cell_type": "code",
   "execution_count": 588,
   "metadata": {},
   "outputs": [
    {
     "name": "stdout",
     "output_type": "stream",
     "text": [
      "\u001b[1mMonte Carlo Standard : \u001b[0m\n",
      "Standard deviation : 11.623584087666885\n",
      "Variance : 135.1077070430628\n",
      "Confidence interval of 0.95 % : [ 42.64432167969555  :  43.099957803357555 ]\n",
      "Result : 42.87213974152655 in 6.64237117767334 secondes\n",
      "Error :  0.20547307485988853 \n",
      " \n",
      "\n",
      "\u001b[1mMonte Carlo Antithetic Variates : \u001b[0m\n",
      "mean t : 5.000390028929804\n",
      "Standard deviation : 0.6027240572169286\n",
      "Variance : 0.36327628914803534\n",
      "Confidence interval of 0.95 % : [ 42.66463914098323  :  42.688265489878454 ]\n",
      "Result : 42.67645231543084 in 7.031548261642456 secondes\n",
      "Error :  0.0097856487641792\n"
     ]
    }
   ],
   "source": [
    "N=10000\n",
    "print('\\033[1m' + \"Monte Carlo Standard : \" + '\\033[0m')\n",
    "start_time = time.time()\n",
    "res1,_ = MC(f2,3,5,N)\n",
    "print(\"Result :\",res1,\"in\",time.time() - start_time,\"secondes\")\n",
    "print(\"Error : \",abs(integrate.quad(f2,3,5)[0]-res1),\"\\n \\n\")\n",
    "print('\\033[1m' + \"Monte Carlo Antithetic Variates : \" + '\\033[0m')\n",
    "start_time = time.time()\n",
    "res2,_ = MC_control_variate(f2,3,5,N)\n",
    "print(\"Result :\",res2,\"in\",time.time() - start_time,\"secondes\")\n",
    "print(\"Error : \",abs(integrate.quad(f2,3,5)[0]-res2))"
   ]
  },
  {
   "cell_type": "markdown",
   "metadata": {},
   "source": [
    "## Quasi Monte Carlo"
   ]
  },
  {
   "cell_type": "markdown",
   "metadata": {},
   "source": [
    "### Naive method for generate low discrepency sequence on [0,1], $r_{i+1} \\equiv (r_i + c )\\mod 1$\n",
    "\n",
    "The choice of constant $c$ is very important"
   ]
  },
  {
   "cell_type": "code",
   "execution_count": 589,
   "metadata": {},
   "outputs": [],
   "source": [
    "def Naive_LD_sequence(n,dim,a=0,b=1):\n",
    "    c = [np.sqrt(2)%1]\n",
    "    len_c = 1\n",
    "    number = 3\n",
    "    while len_c < dim:\n",
    "        if (is_prime_Miller(number,10)):\n",
    "            c.append(np.sqrt(number)%1)\n",
    "            len_c +=1 \n",
    "        number +=1  \n",
    "    c = [0.5545497,0.308517]\n",
    "    s0 = 0.5\n",
    "    sample = []\n",
    "    for d in range(dim):\n",
    "        s = [s0]\n",
    "        for i in range(1,n):\n",
    "            U = (s[i-1]+c[d])%1\n",
    "            s.append(a+U*(b-a))\n",
    "        sample.append(s)\n",
    "    return sample"
   ]
  },
  {
   "cell_type": "markdown",
   "metadata": {},
   "source": [
    "It works well on [0,1]"
   ]
  },
  {
   "cell_type": "code",
   "execution_count": 590,
   "metadata": {
    "scrolled": true
   },
   "outputs": [
    {
     "data": {
      "image/png": "[encoded data removed]",
      "text/plain": [
       "<Figure size 432x288 with 1 Axes>"
      ]
     },
     "metadata": {
      "needs_background": "light"
     },
     "output_type": "display_data"
    }
   ],
   "source": [
    "a,b = 0,1\n",
    "n = 10000\n",
    "sequence = Naive_LD_sequence(n,dim=2,a=a,b=b)\n",
    "plt.scatter(sequence[0],sequence[1],s=2)\n",
    "plt.axis([a,b,a,b])\n",
    "plt.show()"
   ]
  },
  {
   "cell_type": "markdown",
   "metadata": {},
   "source": [
    "But you can't transpose it on all interval $[a,b]$ such that $[3,5]$ for example"
   ]
  },
  {
   "cell_type": "code",
   "execution_count": 591,
   "metadata": {},
   "outputs": [
    {
     "data": {
      "image/png": "[encoded data removed]",
      "text/plain": [
       "<Figure size 432x288 with 1 Axes>"
      ]
     },
     "metadata": {
      "needs_background": "light"
     },
     "output_type": "display_data"
    }
   ],
   "source": [
    "a,b = 3,5\n",
    "n = 10000\n",
    "sequence = Naive_LD_sequence(n,dim=2,a=a,b=b)\n",
    "plt.scatter(sequence[0],sequence[1],s=2)\n",
    "plt.axis([a,b,a,b])\n",
    "plt.show()"
   ]
  },
  {
   "cell_type": "code",
   "execution_count": 592,
   "metadata": {},
   "outputs": [
    {
     "data": {
      "text/plain": [
       "(array([2.23762424e-04, 0.00000000e+00, 0.00000000e+00, 0.00000000e+00,\n",
       "        0.00000000e+00, 6.71287271e-04, 2.23762424e-03, 2.22979255e+00,\n",
       "        2.01386181e-03, 2.68514908e-03]),\n",
       " array([0.5       , 0.94690256, 1.39380512, 1.84070768, 2.28761024,\n",
       "        2.7345128 , 3.18141536, 3.62831792, 4.07522048, 4.52212304,\n",
       "        4.9690256 ]),\n",
       " <a list of 10 Patch objects>)"
      ]
     },
     "execution_count": 592,
     "metadata": {},
     "output_type": "execute_result"
    },
    {
     "data": {
      "image/png": "[encoded data removed]",
      "text/plain": [
       "<Figure size 432x288 with 1 Axes>"
      ]
     },
     "metadata": {
      "needs_background": "light"
     },
     "output_type": "display_data"
    }
   ],
   "source": [
    "plt.hist(sequence[0],density=True)"
   ]
  },
  {
   "cell_type": "markdown",
   "metadata": {},
   "source": [
    "Where a random sample on $[3,5]^2$ gives"
   ]
  },
  {
   "cell_type": "code",
   "execution_count": 593,
   "metadata": {},
   "outputs": [
    {
     "data": {
      "image/png": "[encoded data removed]",
      "text/plain": [
       "<Figure size 432x288 with 1 Axes>"
      ]
     },
     "metadata": {
      "needs_background": "light"
     },
     "output_type": "display_data"
    }
   ],
   "source": [
    "a,b = 3,5\n",
    "n = 1000\n",
    "sequence1 = Uniform_Continue(a,b,n)\n",
    "sequence2 = Uniform_Continue(a,b,n)\n",
    "plt.scatter(sequence1,sequence2,s=2)\n",
    "plt.axis([a,b,a,b])\n",
    "plt.show()"
   ]
  },
  {
   "cell_type": "code",
   "execution_count": 630,
   "metadata": {},
   "outputs": [],
   "source": [
    "def QMC_naive(f,a,b,N=1000,alpha=0.05):\n",
    "    exact_result = integrate.quad(f,a,b)[0]\n",
    "    res = []\n",
    "    conv = []\n",
    "    sample = Naive_LD_sequence(N,1,a,b)[0]\n",
    "    for i in range(N):\n",
    "        res.append((b-a)*f(sample[i]))\n",
    "        conv.append(abs(exact_result-np.mean(res)))\n",
    "    sigma = np.std(res)\n",
    "    sigma2 = np.var(res)\n",
    "    quantil = ndtri(1-alpha/2)\n",
    "    res = np.mean(res)\n",
    "    print(\"Standard deviation :\", sigma)\n",
    "    print(\"Variance :\",sigma2)\n",
    "    print(\"Confidence interval of\", 1-alpha,\"% : [\", res - quantil*sigma/math.sqrt(N), \" : \",res + quantil*sigma/math.sqrt(N),\"]\")\n",
    "    return res,conv"
   ]
  },
  {
   "cell_type": "markdown",
   "metadata": {},
   "source": [
    "This QMC works on only on $[0,1]$"
   ]
  },
  {
   "cell_type": "code",
   "execution_count": 598,
   "metadata": {},
   "outputs": [
    {
     "name": "stdout",
     "output_type": "stream",
     "text": [
      "\u001b[1mMonte Carlo Standard : \u001b[0m\n",
      "Standard deviation : 0.13911473954166115\n",
      "Variance : 0.019352910757744222\n",
      "Confidence interval of 0.95 % : [ 0.6912470237784911  :  0.6967002213628977 ]\n",
      "Result : 0.6939736225706944 in 4.904543399810791 secondes\n",
      "Error :  0.0008264420107489956 \n",
      " \n",
      "\n",
      "\u001b[1mQuasi Monte Carlo naive sequence : \u001b[0m\n",
      "Standard deviation : 0.1398735037151551\n",
      "Variance : 0.01956459704155351\n",
      "Confidence interval of 0.95 % : [ 0.6905887584893242  :  0.6960716990827869 ]\n",
      "Result : 0.6933302287860555 in 4.132723093032837 secondes\n",
      "Error :  0.0001830482261101496\n"
     ]
    }
   ],
   "source": [
    "N=10000\n",
    "print('\\033[1m' + \"Monte Carlo Standard : \" + '\\033[0m')\n",
    "start_time = time.time()\n",
    "res1,_ = MC(f1,0,1,N)\n",
    "print(\"Result :\",res1,\"in\",time.time() - start_time,\"secondes\")\n",
    "print(\"Error : \",abs(integrate.quad(f1,0,1)[0]-res1),\"\\n \\n\")\n",
    "print('\\033[1m' + \"Quasi Monte Carlo naive sequence : \" + '\\033[0m')\n",
    "start_time = time.time()\n",
    "res2,_ = QMC_naive(f1,0,1,N)\n",
    "print(\"Result :\",res2,\"in\",time.time() - start_time,\"secondes\")\n",
    "print(\"Error : \",abs(integrate.quad(f1,0,1)[0]-res2))"
   ]
  },
  {
   "cell_type": "markdown",
   "metadata": {},
   "source": [
    "Quasi Monte Carlo with this sequence do not work very well for compute integral not in $[0,1]$"
   ]
  },
  {
   "cell_type": "code",
   "execution_count": 600,
   "metadata": {},
   "outputs": [
    {
     "name": "stdout",
     "output_type": "stream",
     "text": [
      "\u001b[1mMonte Carlo Standard : \u001b[0m\n",
      "Standard deviation : 11.614523276781833\n",
      "Variance : 134.897150946907\n",
      "Confidence interval of 0.95 % : [ 42.63917010713696  :  43.09445105353885 ]\n",
      "Result : 42.866810580337905 in 10.944684028625488 secondes\n",
      "Error :  0.20014391367124063 \n",
      " \n",
      "\n",
      "\u001b[1mQuasi Monte Carlo naive sequence : \u001b[0m\n",
      "Standard deviation : 0.929955477293994\n",
      "Variance : 0.8648171897491\n",
      "Confidence interval of 0.95 % : [ 39.83572906202258  :  39.87218264687702 ]\n",
      "Result : 39.8539558544498 in 12.523303985595703 secondes\n",
      "Error :  2.8127108122168636\n"
     ]
    }
   ],
   "source": [
    "N=10000\n",
    "print('\\033[1m' + \"Monte Carlo Standard : \" + '\\033[0m')\n",
    "start_time = time.time()\n",
    "res1,_ = MC(f2,3,5,N)\n",
    "print(\"Result :\",res1,\"in\",time.time() - start_time,\"secondes\")\n",
    "print(\"Error : \",abs(integrate.quad(f2,3,5)[0]-res1),\"\\n \\n\")\n",
    "print('\\033[1m' + \"Quasi Monte Carlo naive sequence : \" + '\\033[0m')\n",
    "start_time = time.time()\n",
    "res2,_ = QMC_naive(f2,3,5,N)\n",
    "print(\"Result :\",res2,\"in\",time.time() - start_time,\"secondes\")\n",
    "print(\"Error : \",abs(integrate.quad(f2,3,5)[0]-res2))"
   ]
  },
  {
   "cell_type": "markdown",
   "metadata": {},
   "source": [
    "### Van Der Corput\n",
    "\n",
    "Van Der Corput sequence works better on all interval $[a,b]$ and even on multi dimensional space wheareas the base choice if prime for each direction"
   ]
  },
  {
   "cell_type": "code",
   "execution_count": 601,
   "metadata": {},
   "outputs": [],
   "source": [
    "def VanDerCoput_sequence(n,base=2,a=0,b=1):\n",
    "    sample =[a]\n",
    "    for i in range(1,n):\n",
    "        phi = 0.0\n",
    "        number = str(np.base_repr(i,base=base))\n",
    "        j = -len(number)\n",
    "        for c in number:\n",
    "            phi+= int(c,base)*pow(base,j)\n",
    "            j = j+1\n",
    "        sample.append(a + phi*(b-a))\n",
    "    return sample"
   ]
  },
  {
   "cell_type": "code",
   "execution_count": 602,
   "metadata": {},
   "outputs": [
    {
     "data": {
      "text/plain": [
       "(array([1.0214011 , 1.00137363, 1.00137363, 0.99135989, 1.00137363,\n",
       "        1.00137363, 0.99135989, 1.01138736, 1.00137363, 0.99135989]),\n",
       " array([4.        , 4.09986283, 4.19972565, 4.29958848, 4.3994513 ,\n",
       "        4.49931413, 4.59917695, 4.69903978, 4.79890261, 4.89876543,\n",
       "        4.99862826]),\n",
       " <a list of 10 Patch objects>)"
      ]
     },
     "execution_count": 602,
     "metadata": {},
     "output_type": "execute_result"
    },
    {
     "data": {
      "image/png": "[encoded data removed]",
      "text/plain": [
       "<Figure size 432x288 with 1 Axes>"
      ]
     },
     "metadata": {
      "needs_background": "light"
     },
     "output_type": "display_data"
    }
   ],
   "source": [
    "seq = VanDerCoput_sequence(1000,3,4,5)\n",
    "plt.hist(seq,density=True)"
   ]
  },
  {
   "cell_type": "code",
   "execution_count": 603,
   "metadata": {},
   "outputs": [],
   "source": [
    "def VanDerCoput_multidim_sequence(n,dim,a=0,b=1):\n",
    "    base_array = [2]\n",
    "    len_base = 1\n",
    "    number = 3\n",
    "    while len_base < dim:\n",
    "        if (is_prime_Miller(number,10)):\n",
    "            base_array.append(number)\n",
    "            len_base +=1 \n",
    "        number +=1  \n",
    "    sample = []\n",
    "    for d in range(dim):\n",
    "        print(\"base :\",base_array[d])\n",
    "        sample.append(VanDerCoput_sequence(n,base_array[d],a,b))\n",
    "    return sample"
   ]
  },
  {
   "cell_type": "markdown",
   "metadata": {},
   "source": [
    "Van Der Corput Sequence in dimension $4$ on $a=3$ and $b=5$"
   ]
  },
  {
   "cell_type": "code",
   "execution_count": 604,
   "metadata": {
    "scrolled": true
   },
   "outputs": [
    {
     "name": "stdout",
     "output_type": "stream",
     "text": [
      "base : 2\n",
      "base : 3\n",
      "base : 5\n",
      "base : 7\n",
      "base : 11\n",
      "base : 13\n",
      "base : 17\n",
      "base : 19\n",
      "base : 23\n",
      "base : 29\n",
      "base : 31\n"
     ]
    },
    {
     "data": {
      "image/png": "[encoded data removed]",
      "text/plain": [
       "<Figure size 432x288 with 1 Axes>"
      ]
     },
     "metadata": {
      "needs_background": "light"
     },
     "output_type": "display_data"
    }
   ],
   "source": [
    "a,b = 3,5\n",
    "n = 1000\n",
    "sequence = VanDerCoput_multidim_sequence(n,11,a,b)\n",
    "plt.scatter(sequence[1],sequence[0],s=2)\n",
    "plt.axis([a,b,a,b])\n",
    "plt.show()"
   ]
  },
  {
   "cell_type": "markdown",
   "metadata": {},
   "source": [
    "Max dimension is 11 because of $\\textit{np.base_repr()}$ allowed only to base 36.\n",
    "\n",
    "Allowing greater base there is no limitation on the dimension.\n",
    "\n",
    "Remarks : above 30 dimensions there is some limitations of the Van Der Corput sequence (called Halton sequence when it's in multidimensional)"
   ]
  },
  {
   "cell_type": "code",
   "execution_count": 722,
   "metadata": {},
   "outputs": [
    {
     "data": {
      "text/plain": [
       "(array([1.1, 1.1, 1.1, 1.1, 1.1, 1.1, 1.1, 1.1, 1.1, 1.1]),\n",
       " array([4.        , 4.09090909, 4.18181818, 4.27272727, 4.36363636,\n",
       "        4.45454545, 4.54545455, 4.63636364, 4.72727273, 4.81818182,\n",
       "        4.90909091]),\n",
       " <a list of 10 Patch objects>)"
      ]
     },
     "execution_count": 722,
     "metadata": {},
     "output_type": "execute_result"
    },
    {
     "data": {
      "image/png": "[encoded data removed]",
      "text/plain": [
       "<Figure size 432x288 with 1 Axes>"
      ]
     },
     "metadata": {
      "needs_background": "light"
     },
     "output_type": "display_data"
    }
   ],
   "source": [
    "seq = VanDerCoput_sequence(20,11,4,5)\n",
    "plt.hist(seq,density=True)"
   ]
  },
  {
   "cell_type": "code",
   "execution_count": 631,
   "metadata": {},
   "outputs": [],
   "source": [
    "def QMC_VanDerCorput(f,a,b,N=1000,alpha=0.05):\n",
    "    exact_result = integrate.quad(f,a,b)[0]\n",
    "    res = []\n",
    "    conv = []\n",
    "    sample = VanDerCoput_sequence(N,2,a,b)\n",
    "    for i in range(N):\n",
    "        res.append((b-a)*f(sample[i]))\n",
    "        conv.append(abs(exact_result-np.mean(res)))\n",
    "    sigma = np.std(res)\n",
    "    sigma2 = np.var(res)\n",
    "    quantil = ndtri(1-alpha/2)\n",
    "    res = np.mean(res)\n",
    "    print(\"Standard deviation :\", sigma)\n",
    "    print(\"Variance :\",sigma2)\n",
    "    print(\"Confidence interval of\", 1-alpha,\"% : [\", res - quantil*sigma/math.sqrt(N), \" : \",res + quantil*sigma/math.sqrt(N),\"]\")\n",
    "    return res,conv"
   ]
  },
  {
   "cell_type": "code",
   "execution_count": 607,
   "metadata": {},
   "outputs": [
    {
     "name": "stdout",
     "output_type": "stream",
     "text": [
      "\u001b[1mMonte Carlo Standard : \u001b[0m\n",
      "Standard deviation : 0.1392396844689837\n",
      "Variance : 0.01938768973102214\n",
      "Confidence interval of 0.95 % : [ 0.689099300630018  :  0.6945573959655765 ]\n",
      "Result : 0.6918283482977973 in 1.983659029006958 secondes\n",
      "Error :  0.0013188322621481285 \n",
      " \n",
      "\n",
      "\u001b[1mQuasi Monte Carlo Van Der Corput sequence : \u001b[0m\n",
      "Standard deviation : 0.1398461309548536\n",
      "Variance : 0.019556940343042062\n",
      "Confidence interval of 0.95 % : [ 0.6904920010478401  :  0.6959738686488159 ]\n",
      "Result : 0.693232934848328 in 2.169420003890991 secondes\n",
      "Error :  8.575428838264454e-05\n"
     ]
    }
   ],
   "source": [
    "N=10000\n",
    "print('\\033[1m' + \"Monte Carlo Standard : \" + '\\033[0m')\n",
    "start_time = time.time()\n",
    "res1,_ = MC(f1,0,1,N)\n",
    "print(\"Result :\",res1,\"in\",time.time() - start_time,\"secondes\")\n",
    "print(\"Error : \",abs(integrate.quad(f1,0,1)[0]-res1),\"\\n \\n\")\n",
    "print('\\033[1m' + \"Quasi Monte Carlo Van Der Corput sequence : \" + '\\033[0m')\n",
    "start_time = time.time()\n",
    "res2,_ = QMC_VanDerCorput(f1,0,1,N)\n",
    "print(\"Result :\",res2,\"in\",time.time() - start_time,\"secondes\")\n",
    "print(\"Error : \",abs(integrate.quad(f1,0,1)[0]-res2))"
   ]
  },
  {
   "cell_type": "code",
   "execution_count": 608,
   "metadata": {},
   "outputs": [
    {
     "name": "stdout",
     "output_type": "stream",
     "text": [
      "\u001b[1mMonte Carlo Standard : \u001b[0m\n",
      "Standard deviation : 11.546806205331572\n",
      "Variance : 133.3287335434837\n",
      "Confidence interval of 0.95 % : [ 42.4085459894686  :  42.86117247544687 ]\n",
      "Result : 42.634859232457735 in 2.481370210647583 secondes\n",
      "Error :  0.03180743420892895 \n",
      " \n",
      "\n",
      "\u001b[1mQuasi Monte Carlo Van Der Corput sequence : \u001b[0m\n",
      "Standard deviation : 11.561649044330883\n",
      "Variance : 133.67172862427722\n",
      "Confidence interval of 0.95 % : [ 42.43322819291857  :  42.886436507494174 ]\n",
      "Result : 42.65983235020637 in 4.168996095657349 secondes\n",
      "Error :  0.0068343164602922\n"
     ]
    }
   ],
   "source": [
    "N=10000\n",
    "print('\\033[1m' + \"Monte Carlo Standard : \" + '\\033[0m')\n",
    "start_time = time.time()\n",
    "res1,_ = MC(f2,3,5,N)\n",
    "print(\"Result :\",res1,\"in\",time.time() - start_time,\"secondes\")\n",
    "print(\"Error : \",abs(integrate.quad(f2,3,5)[0]-res1),\"\\n \\n\")\n",
    "print('\\033[1m' + \"Quasi Monte Carlo Van Der Corput sequence : \" + '\\033[0m')\n",
    "start_time = time.time()\n",
    "res2,_ = QMC_VanDerCorput(f2,3,5,N)\n",
    "print(\"Result :\",res2,\"in\",time.time() - start_time,\"secondes\")\n",
    "print(\"Error : \",abs(integrate.quad(f2,3,5)[0]-res2))"
   ]
  },
  {
   "cell_type": "markdown",
   "metadata": {},
   "source": [
    "# Study of the convergence"
   ]
  },
  {
   "cell_type": "markdown",
   "metadata": {},
   "source": [
    "First we study on $[3,5]$ for a smooth funnction $f(x) = \\frac{1}{1+x}$"
   ]
  },
  {
   "cell_type": "code",
   "execution_count": 708,
   "metadata": {},
   "outputs": [
    {
     "name": "stdout",
     "output_type": "stream",
     "text": [
      "MC standard...\n",
      "Standard deviation : 11.571495863256445\n",
      "Variance : 133.89951651336102\n",
      "Confidence interval of 0.95 % : [ 42.593115169584905  :  42.73655428263248 ]\n",
      "MC anthitetic variable...\n",
      "Standard deviation : 0.5958736642267338\n",
      "Variance : 0.3550654237189943\n",
      "Confidence interval of 0.95 % : [ 42.66318148062014  :  42.67056787135951 ]\n",
      "MC control variate...\n",
      "mean t : 5.00028982387072\n",
      "Standard deviation : 0.5985355280132282\n",
      "Variance : 0.3582447782940739\n",
      "Confidence interval of 0.95 % : [ 42.66481723430612  :  42.67223662124453 ]\n",
      "QMC...\n",
      "Standard deviation : 11.562294828541102\n",
      "Variance : 133.6866617021083\n",
      "Confidence interval of 0.95 % : [ 42.59416348972291  :  42.73748854765832 ]\n"
     ]
    }
   ],
   "source": [
    "a ,b = 3,5\n",
    "N = pow(10,5)\n",
    "print(\"MC standard...\")\n",
    "_,conv_mc_standard = MC(f2,a,b,N)\n",
    "print(\"MC anthitetic variable...\")\n",
    "_,conv_mc_anthitetic_variable = MC_anthitetic(f2,a,b,N)\n",
    "print(\"MC control variate...\")\n",
    "_,conv_mc_control_variate =MC_control_variate(f2,a,b,N)\n",
    "print(\"QMC...\")\n",
    "_,conv_qmc = QMC_VanDerCorput(f2,a,b,N)"
   ]
  },
  {
   "cell_type": "code",
   "execution_count": 720,
   "metadata": {},
   "outputs": [
    {
     "data": {
      "text/plain": [
       "Text(0, 0.5, 'Error')"
      ]
     },
     "execution_count": 720,
     "metadata": {},
     "output_type": "execute_result"
    },
    {
     "data": {
      "image/png": "[encoded data removed]",
      "text/plain": [
       "<Figure size 576x576 with 1 Axes>"
      ]
     },
     "metadata": {
      "needs_background": "light"
     },
     "output_type": "display_data"
    }
   ],
   "source": [
    "plt.figure(figsize=(8,8))\n",
    "x = np.linspace(0,N,50)\n",
    "plt.plot(range(N)[0::int(N/10)],conv_mc_standard[0::int(N/10)],color=\"b\")\n",
    "plt.plot(range(N)[0::int(N/10)],conv_mc_anthitetic_variable[0::int(N/10)],color=\"r\")\n",
    "plt.plot(range(N)[0::int(N/10)],conv_mc_control_variate[0::int(N/10)],color=\"g\")\n",
    "plt.plot(range(N)[0::int(N/10)],conv_qmc[0::int(N/10)],color=\"black\")\n",
    "plt.legend(['MC standard','MC Anthitetic variable','MC control variate','QMC'])\n",
    "plt.yscale('log')\n",
    "plt.title('Convergence')\n",
    "plt.xlabel(\"Number of simulations\")\n",
    "plt.ylabel(\"Error\")\n",
    "#plt.xscale('log')"
   ]
  }
 ],
 "metadata": {
  "kernelspec": {
   "display_name": "Python 3",
   "language": "python",
   "name": "python3"
  },
  "language_info": {
   "codemirror_mode": {
    "name": "ipython",
    "version": 3
   },
   "file_extension": ".py",
   "mimetype": "text/x-python",
   "name": "python",
   "nbconvert_exporter": "python",
   "pygments_lexer": "ipython3",
   "version": "3.7.3"
  }
 },
 "nbformat": 4,
 "nbformat_minor": 2
}
